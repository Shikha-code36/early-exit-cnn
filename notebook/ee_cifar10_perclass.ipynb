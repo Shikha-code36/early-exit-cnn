{
 "cells": [
  {
   "cell_type": "code",
   "execution_count": 1,
   "metadata": {
    "colab": {
     "base_uri": "https://localhost:8080/"
    },
    "id": "YuRthkfndHXL",
    "outputId": "2b83686b-249c-4eb6-e91c-4944024efe0d"
   },
   "outputs": [
    {
     "name": "stdout",
     "output_type": "stream",
     "text": [
      "Requirement already satisfied: torch in /system/conda/miniconda3/envs/cloudspace/lib/python3.10/site-packages (2.2.1+cu121)\n",
      "Requirement already satisfied: torchvision in /system/conda/miniconda3/envs/cloudspace/lib/python3.10/site-packages (0.17.1+cu121)\n",
      "Requirement already satisfied: matplotlib in /system/conda/miniconda3/envs/cloudspace/lib/python3.10/site-packages (3.8.2)\n",
      "Requirement already satisfied: tqdm in /system/conda/miniconda3/envs/cloudspace/lib/python3.10/site-packages (4.67.1)\n",
      "Requirement already satisfied: seaborn in /system/conda/miniconda3/envs/cloudspace/lib/python3.10/site-packages (0.13.2)\n",
      "Requirement already satisfied: filelock in /system/conda/miniconda3/envs/cloudspace/lib/python3.10/site-packages (from torch) (3.17.0)\n",
      "Requirement already satisfied: typing-extensions>=4.8.0 in /system/conda/miniconda3/envs/cloudspace/lib/python3.10/site-packages (from torch) (4.12.2)\n",
      "Requirement already satisfied: sympy in /system/conda/miniconda3/envs/cloudspace/lib/python3.10/site-packages (from torch) (1.13.3)\n",
      "Requirement already satisfied: networkx in /system/conda/miniconda3/envs/cloudspace/lib/python3.10/site-packages (from torch) (3.4.2)\n",
      "Requirement already satisfied: jinja2 in /system/conda/miniconda3/envs/cloudspace/lib/python3.10/site-packages (from torch) (3.1.5)\n",
      "Requirement already satisfied: fsspec in /system/conda/miniconda3/envs/cloudspace/lib/python3.10/site-packages (from torch) (2025.2.0)\n",
      "Requirement already satisfied: nvidia-cuda-nvrtc-cu12==12.1.105 in /system/conda/miniconda3/envs/cloudspace/lib/python3.10/site-packages (from torch) (12.1.105)\n",
      "Requirement already satisfied: nvidia-cuda-runtime-cu12==12.1.105 in /system/conda/miniconda3/envs/cloudspace/lib/python3.10/site-packages (from torch) (12.1.105)\n",
      "Requirement already satisfied: nvidia-cuda-cupti-cu12==12.1.105 in /system/conda/miniconda3/envs/cloudspace/lib/python3.10/site-packages (from torch) (12.1.105)\n",
      "Requirement already satisfied: nvidia-cudnn-cu12==8.9.2.26 in /system/conda/miniconda3/envs/cloudspace/lib/python3.10/site-packages (from torch) (8.9.2.26)\n",
      "Requirement already satisfied: nvidia-cublas-cu12==12.1.3.1 in /system/conda/miniconda3/envs/cloudspace/lib/python3.10/site-packages (from torch) (12.1.3.1)\n",
      "Requirement already satisfied: nvidia-cufft-cu12==11.0.2.54 in /system/conda/miniconda3/envs/cloudspace/lib/python3.10/site-packages (from torch) (11.0.2.54)\n",
      "Requirement already satisfied: nvidia-curand-cu12==10.3.2.106 in /system/conda/miniconda3/envs/cloudspace/lib/python3.10/site-packages (from torch) (10.3.2.106)\n",
      "Requirement already satisfied: nvidia-cusolver-cu12==11.4.5.107 in /system/conda/miniconda3/envs/cloudspace/lib/python3.10/site-packages (from torch) (11.4.5.107)\n",
      "Requirement already satisfied: nvidia-cusparse-cu12==12.1.0.106 in /system/conda/miniconda3/envs/cloudspace/lib/python3.10/site-packages (from torch) (12.1.0.106)\n",
      "Requirement already satisfied: nvidia-nccl-cu12==2.19.3 in /system/conda/miniconda3/envs/cloudspace/lib/python3.10/site-packages (from torch) (2.19.3)\n",
      "Requirement already satisfied: nvidia-nvtx-cu12==12.1.105 in /system/conda/miniconda3/envs/cloudspace/lib/python3.10/site-packages (from torch) (12.1.105)\n",
      "Requirement already satisfied: triton==2.2.0 in /system/conda/miniconda3/envs/cloudspace/lib/python3.10/site-packages (from torch) (2.2.0)\n",
      "Requirement already satisfied: nvidia-nvjitlink-cu12 in /system/conda/miniconda3/envs/cloudspace/lib/python3.10/site-packages (from nvidia-cusolver-cu12==11.4.5.107->torch) (12.8.61)\n",
      "Requirement already satisfied: numpy in /system/conda/miniconda3/envs/cloudspace/lib/python3.10/site-packages (from torchvision) (1.26.4)\n",
      "Requirement already satisfied: pillow!=8.3.*,>=5.3.0 in /system/conda/miniconda3/envs/cloudspace/lib/python3.10/site-packages (from torchvision) (11.1.0)\n",
      "Requirement already satisfied: contourpy>=1.0.1 in /system/conda/miniconda3/envs/cloudspace/lib/python3.10/site-packages (from matplotlib) (1.3.1)\n",
      "Requirement already satisfied: cycler>=0.10 in /system/conda/miniconda3/envs/cloudspace/lib/python3.10/site-packages (from matplotlib) (0.12.1)\n",
      "Requirement already satisfied: fonttools>=4.22.0 in /system/conda/miniconda3/envs/cloudspace/lib/python3.10/site-packages (from matplotlib) (4.55.8)\n",
      "Requirement already satisfied: kiwisolver>=1.3.1 in /system/conda/miniconda3/envs/cloudspace/lib/python3.10/site-packages (from matplotlib) (1.4.8)\n",
      "Requirement already satisfied: packaging>=20.0 in /system/conda/miniconda3/envs/cloudspace/lib/python3.10/site-packages (from matplotlib) (24.2)\n",
      "Requirement already satisfied: pyparsing>=2.3.1 in /system/conda/miniconda3/envs/cloudspace/lib/python3.10/site-packages (from matplotlib) (3.2.1)\n",
      "Requirement already satisfied: python-dateutil>=2.7 in /system/conda/miniconda3/envs/cloudspace/lib/python3.10/site-packages (from matplotlib) (2.9.0.post0)\n",
      "Requirement already satisfied: pandas>=1.2 in /system/conda/miniconda3/envs/cloudspace/lib/python3.10/site-packages (from seaborn) (2.1.4)\n",
      "Requirement already satisfied: pytz>=2020.1 in /system/conda/miniconda3/envs/cloudspace/lib/python3.10/site-packages (from pandas>=1.2->seaborn) (2025.1)\n",
      "Requirement already satisfied: tzdata>=2022.1 in /system/conda/miniconda3/envs/cloudspace/lib/python3.10/site-packages (from pandas>=1.2->seaborn) (2025.1)\n",
      "Requirement already satisfied: six>=1.5 in /system/conda/miniconda3/envs/cloudspace/lib/python3.10/site-packages (from python-dateutil>=2.7->matplotlib) (1.17.0)\n",
      "Requirement already satisfied: MarkupSafe>=2.0 in /system/conda/miniconda3/envs/cloudspace/lib/python3.10/site-packages (from jinja2->torch) (3.0.2)\n",
      "Requirement already satisfied: mpmath<1.4,>=1.1.0 in /system/conda/miniconda3/envs/cloudspace/lib/python3.10/site-packages (from sympy->torch) (1.3.0)\n"
     ]
    }
   ],
   "source": [
    "!pip install torch torchvision matplotlib tqdm seaborn"
   ]
  },
  {
   "cell_type": "code",
   "execution_count": 2,
   "metadata": {
    "id": "WGgVQBb-d7-9"
   },
   "outputs": [],
   "source": [
    "import torch\n",
    "import torch.nn as nn\n",
    "import torch.optim as optim\n",
    "import torch.nn.functional as F\n",
    "import numpy as np\n",
    "from collections import deque\n",
    "import random\n",
    "import copy"
   ]
  },
  {
   "cell_type": "code",
   "execution_count": 3,
   "metadata": {
    "id": "jI9KGZifxVH6"
   },
   "outputs": [],
   "source": [
    "# 1. Early Exit CNN Architecture for CIFAR-10\n",
    "class EarlyExitCNN(nn.Module):\n",
    "    def __init__(self, num_classes=10):\n",
    "        super(EarlyExitCNN, self).__init__()\n",
    "\n",
    "        # First block - Enhanced feature extraction\n",
    "        self.block1 = nn.Sequential(\n",
    "            nn.Conv2d(3, 64, 3, padding=1),\n",
    "            nn.BatchNorm2d(64),\n",
    "            nn.ReLU(),\n",
    "            nn.Conv2d(64, 64, 3, padding=1),  # Additional conv layer\n",
    "            nn.BatchNorm2d(64),\n",
    "            nn.ReLU(),\n",
    "            nn.MaxPool2d(2)\n",
    "        )\n",
    "\n",
    "\n",
    "        # First exit point with better feature processing\n",
    "        self.exit1 = nn.Sequential(\n",
    "            nn.AdaptiveAvgPool2d(1),\n",
    "            nn.Flatten(),\n",
    "            nn.Linear(64, 128),\n",
    "            nn.ReLU(),\n",
    "            nn.BatchNorm1d(128),\n",
    "            nn.Linear(128, num_classes)\n",
    "        )\n",
    "\n",
    "        # Second block - Improved intermediate processing\n",
    "        self.block2 = nn.Sequential(\n",
    "            nn.Conv2d(64, 128, 3, padding=1),\n",
    "            nn.BatchNorm2d(128),\n",
    "            nn.ReLU(),\n",
    "            nn.Dropout2d(0.3),\n",
    "            nn.Conv2d(128, 128, 3, padding=1),\n",
    "            nn.BatchNorm2d(128),\n",
    "            nn.ReLU(),\n",
    "            nn.MaxPool2d(2)\n",
    "        )\n",
    "\n",
    "        # Second exit with residual connection\n",
    "        self.exit2 = nn.Sequential(\n",
    "            nn.AdaptiveAvgPool2d(1),\n",
    "            nn.Flatten(),\n",
    "            nn.Dropout(0.4),\n",
    "            nn.Linear(128, 256),\n",
    "            nn.ReLU(),\n",
    "            nn.BatchNorm1d(256),\n",
    "            nn.Linear(256, num_classes)\n",
    "        )\n",
    "\n",
    "        # Third block - Advanced feature processing\n",
    "        self.block3 = nn.Sequential(\n",
    "            nn.Conv2d(128, 256, 3, padding=1),\n",
    "            nn.BatchNorm2d(256),\n",
    "            nn.ReLU(),\n",
    "            nn.Dropout2d(0.4),\n",
    "            nn.Conv2d(256, 256, 3, padding=1),\n",
    "            nn.BatchNorm2d(256),\n",
    "            nn.ReLU(),\n",
    "            nn.MaxPool2d(2)\n",
    "        )\n",
    "\n",
    "        # Third exit with enhanced classification\n",
    "        self.exit3 = nn.Sequential(\n",
    "            nn.AdaptiveAvgPool2d(1),\n",
    "            nn.Flatten(),\n",
    "            nn.Dropout(0.5),\n",
    "            nn.Linear(256, 512),\n",
    "            nn.ReLU(),\n",
    "            nn.BatchNorm1d(512),\n",
    "            nn.Linear(512, num_classes)\n",
    "        )\n",
    "\n",
    "        # Final block - Deep feature extraction\n",
    "        self.block4 = nn.Sequential(\n",
    "            nn.Conv2d(256, 512, 3, padding=1),\n",
    "            nn.BatchNorm2d(512),\n",
    "            nn.ReLU(),\n",
    "            nn.Dropout2d(0.5),\n",
    "            nn.Conv2d(512, 512, 3, padding=1),\n",
    "            nn.BatchNorm2d(512),\n",
    "            nn.ReLU(),\n",
    "            nn.MaxPool2d(2)\n",
    "        )\n",
    "\n",
    "        # Final exit with comprehensive classification\n",
    "        self.final_exit = nn.Sequential(\n",
    "            nn.AdaptiveAvgPool2d(1),\n",
    "            nn.Flatten(),\n",
    "            nn.Dropout(0.5),\n",
    "            nn.Linear(512, 1024),\n",
    "            nn.ReLU(),\n",
    "            nn.BatchNorm1d(1024),\n",
    "            nn.Linear(1024, num_classes)\n",
    "        )\n",
    "\n",
    "    def forward(self, x, return_all_exits=False):\n",
    "        # Store intermediate features for each exit\n",
    "        features = []\n",
    "\n",
    "        # First block and exit\n",
    "        x = self.block1(x)\n",
    "        exit1_out = self.exit1(x)\n",
    "        features.append(x)\n",
    "\n",
    "        # Second block and exit\n",
    "        x = self.block2(x)\n",
    "        exit2_out = self.exit2(x)\n",
    "        features.append(x)\n",
    "\n",
    "        # Third block and exit\n",
    "        x = self.block3(x)\n",
    "        exit3_out = self.exit3(x)\n",
    "        features.append(x)\n",
    "\n",
    "        # Final block and exit\n",
    "        x = self.block4(x)\n",
    "        final_out = self.final_exit(x)\n",
    "        features.append(x)\n",
    "\n",
    "        if return_all_exits:\n",
    "            return [exit1_out, exit2_out, exit3_out, final_out]\n",
    "        return final_out"
   ]
  },
  {
   "cell_type": "code",
   "execution_count": 4,
   "metadata": {
    "id": "hAYvRj7CeFo0"
   },
   "outputs": [],
   "source": [
    "# 2. DQN Agent for Early Exit Decisions\n",
    "class DQNAgent:\n",
    "    def __init__(self, state_size, action_size):\n",
    "        self.device = torch.device('cuda' if torch.cuda.is_available() else 'cpu')\n",
    "        self.state_size = state_size\n",
    "        self.action_size = action_size\n",
    "\n",
    "        # Larger network for more complex decisions\n",
    "        self.q_network = nn.Sequential(\n",
    "            nn.Linear(state_size, 256),\n",
    "            nn.ReLU(),\n",
    "            nn.Linear(256, 128),\n",
    "            nn.ReLU(),\n",
    "            nn.Linear(128, action_size)\n",
    "        ).to(self.device)  # Move to GPU\n",
    "\n",
    "        # Modified exploration parameters\n",
    "        self.epsilon = 1.0\n",
    "        self.epsilon_min = 0.2\n",
    "        self.epsilon_decay = 0.998  # Slower decay for more exploration\n",
    "        self.learning_rate = 0.0005  # Adjusted learning rate\n",
    "\n",
    "        self.target_network = copy.deepcopy(self.q_network).to(self.device)  # Move to GPU\n",
    "        self.optimizer = optim.Adam(self.q_network.parameters(),\n",
    "                                  lr=self.learning_rate,\n",
    "                                  weight_decay=1e-5)\n",
    "        self.memory = deque(maxlen=10000)\n",
    "\n",
    "        self.gamma = 0.98\n",
    "        self.target_update_freq = 100\n",
    "        self.steps = 0\n",
    "\n",
    "    def remember(self, state, action, reward, next_state, done):\n",
    "        \"\"\"Store experience in replay memory\"\"\"\n",
    "        self.memory.append((state, action, reward, next_state, done))\n",
    "\n",
    "    def get_action(self, state):\n",
    "        if random.random() < self.epsilon:\n",
    "            return random.randrange(self.action_size)\n",
    "\n",
    "        with torch.no_grad():\n",
    "            state_tensor = torch.FloatTensor(state).unsqueeze(0).to(self.device)  # Move to GPU\n",
    "            q_values = self.q_network(state_tensor)\n",
    "            return q_values.argmax().item()\n",
    "\n",
    "    def train(self, batch_size=64):\n",
    "        if len(self.memory) < batch_size:\n",
    "            return\n",
    "\n",
    "        batch = random.sample(self.memory, batch_size)\n",
    "        # Convert batch data to tensors and move to GPU\n",
    "        states = torch.FloatTensor(np.array([x[0] for x in batch])).to(self.device)\n",
    "        actions = torch.LongTensor([x[1] for x in batch]).to(self.device)\n",
    "        rewards = torch.FloatTensor([x[2] for x in batch]).to(self.device)\n",
    "        next_states = torch.FloatTensor(np.array([x[3] for x in batch])).to(self.device)\n",
    "        dones = torch.FloatTensor([x[4] for x in batch]).to(self.device)\n",
    "\n",
    "        # Use target network for more stable training\n",
    "        current_q = self.q_network(states).gather(1, actions.unsqueeze(1))\n",
    "        next_q = self.target_network(next_states).max(1)[0].detach()\n",
    "        target_q = rewards + (1 - dones) * self.gamma * next_q\n",
    "\n",
    "        # Huber loss for better stability\n",
    "        loss = F.smooth_l1_loss(current_q.squeeze(), target_q)\n",
    "\n",
    "        self.optimizer.zero_grad()\n",
    "        loss.backward()\n",
    "        # Gradient clipping to prevent exploding gradients\n",
    "        torch.nn.utils.clip_grad_norm_(self.q_network.parameters(), 1.0)\n",
    "        self.optimizer.step()\n",
    "\n",
    "        # Update target network\n",
    "        self.steps += 1\n",
    "        if self.steps % self.target_update_freq == 0:\n",
    "            self.target_network.load_state_dict(self.q_network.state_dict())\n",
    "\n",
    "        # Decay epsilon\n",
    "        if self.epsilon > self.epsilon_min:\n",
    "            self.epsilon *= self.epsilon_decay"
   ]
  },
  {
   "cell_type": "code",
   "execution_count": 5,
   "metadata": {
    "id": "fg24xWm4eJ80"
   },
   "outputs": [],
   "source": [
    "# 3. Training Environment\n",
    "class EarlyExitEnvironment:\n",
    "    def __init__(self, model, compute_penalty=0.05):  # Reduced penalty\n",
    "        self.model = model\n",
    "        self.compute_penalty = compute_penalty\n",
    "        self.current_exits = None\n",
    "        self.current_target = None\n",
    "        self.exit_index = 0\n",
    "        # Adjusted confidence thresholds\n",
    "        self.confidence_thresholds = [0.70, 0.80, 0.85, 0.0]\n",
    "\n",
    "    def reset(self, input_data, target):\n",
    "        with torch.no_grad():\n",
    "            self.current_exits = self.model(input_data, return_all_exits=True)\n",
    "            self.current_target = target\n",
    "            self.exit_index = 0\n",
    "    \n",
    "            confidences = F.softmax(self.current_exits[0], dim=1)\n",
    "            max_conf = confidences.max(1)[0]\n",
    "            return max_conf.cpu().numpy() \n",
    "\n",
    "    def step(self, action):\n",
    "        done = False\n",
    "        reward = 0\n",
    "    \n",
    "        # Calculate confidence scores first\n",
    "        confidences = F.softmax(self.current_exits[self.exit_index], dim=1)\n",
    "        max_conf = confidences.max(1)[0]\n",
    "    \n",
    "        if action == 1:  # continue\n",
    "            if self.exit_index < len(self.current_exits) - 1:\n",
    "                self.exit_index += 1\n",
    "                # Smaller penalty for continuing\n",
    "                reward = -self.compute_penalty\n",
    "            else:\n",
    "                done = True\n",
    "    \n",
    "            next_state = max_conf.cpu().numpy()  # Added .cpu()\n",
    "    \n",
    "        else:  # exit\n",
    "            prediction = self.current_exits[self.exit_index].argmax(1)\n",
    "            correct = (prediction == self.current_target).item()\n",
    "    \n",
    "            # Enhanced rewards for correct predictions at later exits\n",
    "            if correct:\n",
    "                base_reward = 1.0\n",
    "                # Higher reward for correct early exits\n",
    "                exit_bonus = (3 - self.exit_index) * 0.3\n",
    "                confidence_bonus = max_conf.item() * 0.2\n",
    "                reward = base_reward + exit_bonus + confidence_bonus\n",
    "            else:\n",
    "                # Larger penalty for incorrect early exits\n",
    "                confidence_penalty = (1 - max_conf.item()) * 0.5\n",
    "                reward = -1.0 - confidence_penalty\n",
    "    \n",
    "            done = True\n",
    "            next_state = None\n",
    "    \n",
    "        return next_state, reward, done"
   ]
  },
  {
   "cell_type": "code",
   "execution_count": 6,
   "metadata": {
    "id": "cmp6VWqreLD6"
   },
   "outputs": [],
   "source": [
    "import torch\n",
    "import torchvision\n",
    "import torchvision.transforms as transforms\n",
    "import matplotlib.pyplot as plt\n",
    "from tqdm.notebook import tqdm\n",
    "import numpy as np"
   ]
  },
  {
   "cell_type": "code",
   "execution_count": 7,
   "metadata": {
    "colab": {
     "base_uri": "https://localhost:8080/"
    },
    "id": "xoPRJI-ueT_H",
    "outputId": "d3884a4d-3f1a-4278-a988-0cbcd8c860c3"
   },
   "outputs": [
    {
     "name": "stdout",
     "output_type": "stream",
     "text": [
      "Using device: cuda\n"
     ]
    }
   ],
   "source": [
    "# Check if GPU is available\n",
    "device = torch.device('cuda' if torch.cuda.is_available() else 'cpu')\n",
    "print(f\"Using device: {device}\")"
   ]
  },
  {
   "cell_type": "code",
   "execution_count": 8,
   "metadata": {
    "id": "mdFag-rGebE8"
   },
   "outputs": [],
   "source": [
    "# Load cifar 10 data\n",
    "def load_cifar10_data(batch_size=128):\n",
    "    \"\"\"\n",
    "    Load and prepare CIFAR-10 dataset with appropriate transformations.\n",
    "    We add some basic data augmentation for training to improve generalization.\n",
    "    \"\"\"\n",
    "    # Training data transforms with augmentation\n",
    "    train_transform = transforms.Compose([\n",
    "        transforms.RandomCrop(32, padding=4),  # Add padding and random crop for robustness\n",
    "        transforms.RandomHorizontalFlip(),     # Random flipping for augmentation\n",
    "        transforms.ToTensor(),\n",
    "        # CIFAR-10 normalization values (pre-computed mean and std)\n",
    "        transforms.Normalize((0.4914, 0.4822, 0.4465),\n",
    "                           (0.2023, 0.1994, 0.2010))\n",
    "    ])\n",
    "\n",
    "    # Test data only needs basic transforms\n",
    "    test_transform = transforms.Compose([\n",
    "        transforms.ToTensor(),\n",
    "        transforms.Normalize((0.4914, 0.4822, 0.4465),\n",
    "                           (0.2023, 0.1994, 0.2010))\n",
    "    ])\n",
    "\n",
    "    # Load training data\n",
    "    train_dataset = torchvision.datasets.CIFAR10(\n",
    "        root='./data',\n",
    "        train=True,\n",
    "        download=True,\n",
    "        transform=train_transform\n",
    "    )\n",
    "\n",
    "    train_loader = torch.utils.data.DataLoader(\n",
    "        train_dataset,\n",
    "        batch_size=batch_size,\n",
    "        shuffle=True,\n",
    "        num_workers=2\n",
    "    )\n",
    "\n",
    "    # Load test data\n",
    "    test_dataset = torchvision.datasets.CIFAR10(\n",
    "        root='./data',\n",
    "        train=False,\n",
    "        download=True,\n",
    "        transform=test_transform\n",
    "    )\n",
    "\n",
    "    test_loader = torch.utils.data.DataLoader(\n",
    "        test_dataset,\n",
    "        batch_size=batch_size,\n",
    "        shuffle=False,\n",
    "        num_workers=2\n",
    "    )\n",
    "\n",
    "    return train_loader, test_loader"
   ]
  },
  {
   "cell_type": "code",
   "execution_count": 9,
   "metadata": {
    "id": "gyRBSx1eeqN0"
   },
   "outputs": [],
   "source": [
    "# Initialize models and move to device\n",
    "def initialize_models():\n",
    "    \"\"\"\n",
    "    Initialize the CNN and DQN models and move them to the correct device\n",
    "    \"\"\"\n",
    "    # Create CNN model\n",
    "    cnn_model = EarlyExitCNN().to(device)\n",
    "\n",
    "    # Create DQN agent\n",
    "    # State size is 1 (confidence score), action size is 2 (exit or continue)\n",
    "    dqn_agent = DQNAgent(state_size=1, action_size=2)\n",
    "    dqn_agent.q_network = dqn_agent.q_network.to(device)\n",
    "\n",
    "    # Create environment\n",
    "    env = EarlyExitEnvironment(cnn_model)\n",
    "\n",
    "    return cnn_model, dqn_agent, env"
   ]
  },
  {
   "cell_type": "code",
   "execution_count": 10,
   "metadata": {
    "colab": {
     "base_uri": "https://localhost:8080/"
    },
    "id": "FzpivlIweuHQ",
    "outputId": "2b0fa85c-15e8-4f72-ecbc-f47d4ffbf7db"
   },
   "outputs": [
    {
     "name": "stdout",
     "output_type": "stream",
     "text": [
      "Files already downloaded and verified\n",
      "Files already downloaded and verified\n",
      "Training batches: 782\n",
      "Test batches: 157\n",
      "\n",
      "Model architectures:\n",
      "EarlyExitCNN(\n",
      "  (block1): Sequential(\n",
      "    (0): Conv2d(3, 64, kernel_size=(3, 3), stride=(1, 1), padding=(1, 1))\n",
      "    (1): BatchNorm2d(64, eps=1e-05, momentum=0.1, affine=True, track_running_stats=True)\n",
      "    (2): ReLU()\n",
      "    (3): Conv2d(64, 64, kernel_size=(3, 3), stride=(1, 1), padding=(1, 1))\n",
      "    (4): BatchNorm2d(64, eps=1e-05, momentum=0.1, affine=True, track_running_stats=True)\n",
      "    (5): ReLU()\n",
      "    (6): MaxPool2d(kernel_size=2, stride=2, padding=0, dilation=1, ceil_mode=False)\n",
      "  )\n",
      "  (exit1): Sequential(\n",
      "    (0): AdaptiveAvgPool2d(output_size=1)\n",
      "    (1): Flatten(start_dim=1, end_dim=-1)\n",
      "    (2): Linear(in_features=64, out_features=128, bias=True)\n",
      "    (3): ReLU()\n",
      "    (4): BatchNorm1d(128, eps=1e-05, momentum=0.1, affine=True, track_running_stats=True)\n",
      "    (5): Linear(in_features=128, out_features=10, bias=True)\n",
      "  )\n",
      "  (block2): Sequential(\n",
      "    (0): Conv2d(64, 128, kernel_size=(3, 3), stride=(1, 1), padding=(1, 1))\n",
      "    (1): BatchNorm2d(128, eps=1e-05, momentum=0.1, affine=True, track_running_stats=True)\n",
      "    (2): ReLU()\n",
      "    (3): Dropout2d(p=0.3, inplace=False)\n",
      "    (4): Conv2d(128, 128, kernel_size=(3, 3), stride=(1, 1), padding=(1, 1))\n",
      "    (5): BatchNorm2d(128, eps=1e-05, momentum=0.1, affine=True, track_running_stats=True)\n",
      "    (6): ReLU()\n",
      "    (7): MaxPool2d(kernel_size=2, stride=2, padding=0, dilation=1, ceil_mode=False)\n",
      "  )\n",
      "  (exit2): Sequential(\n",
      "    (0): AdaptiveAvgPool2d(output_size=1)\n",
      "    (1): Flatten(start_dim=1, end_dim=-1)\n",
      "    (2): Dropout(p=0.4, inplace=False)\n",
      "    (3): Linear(in_features=128, out_features=256, bias=True)\n",
      "    (4): ReLU()\n",
      "    (5): BatchNorm1d(256, eps=1e-05, momentum=0.1, affine=True, track_running_stats=True)\n",
      "    (6): Linear(in_features=256, out_features=10, bias=True)\n",
      "  )\n",
      "  (block3): Sequential(\n",
      "    (0): Conv2d(128, 256, kernel_size=(3, 3), stride=(1, 1), padding=(1, 1))\n",
      "    (1): BatchNorm2d(256, eps=1e-05, momentum=0.1, affine=True, track_running_stats=True)\n",
      "    (2): ReLU()\n",
      "    (3): Dropout2d(p=0.4, inplace=False)\n",
      "    (4): Conv2d(256, 256, kernel_size=(3, 3), stride=(1, 1), padding=(1, 1))\n",
      "    (5): BatchNorm2d(256, eps=1e-05, momentum=0.1, affine=True, track_running_stats=True)\n",
      "    (6): ReLU()\n",
      "    (7): MaxPool2d(kernel_size=2, stride=2, padding=0, dilation=1, ceil_mode=False)\n",
      "  )\n",
      "  (exit3): Sequential(\n",
      "    (0): AdaptiveAvgPool2d(output_size=1)\n",
      "    (1): Flatten(start_dim=1, end_dim=-1)\n",
      "    (2): Dropout(p=0.5, inplace=False)\n",
      "    (3): Linear(in_features=256, out_features=512, bias=True)\n",
      "    (4): ReLU()\n",
      "    (5): BatchNorm1d(512, eps=1e-05, momentum=0.1, affine=True, track_running_stats=True)\n",
      "    (6): Linear(in_features=512, out_features=10, bias=True)\n",
      "  )\n",
      "  (block4): Sequential(\n",
      "    (0): Conv2d(256, 512, kernel_size=(3, 3), stride=(1, 1), padding=(1, 1))\n",
      "    (1): BatchNorm2d(512, eps=1e-05, momentum=0.1, affine=True, track_running_stats=True)\n",
      "    (2): ReLU()\n",
      "    (3): Dropout2d(p=0.5, inplace=False)\n",
      "    (4): Conv2d(512, 512, kernel_size=(3, 3), stride=(1, 1), padding=(1, 1))\n",
      "    (5): BatchNorm2d(512, eps=1e-05, momentum=0.1, affine=True, track_running_stats=True)\n",
      "    (6): ReLU()\n",
      "    (7): MaxPool2d(kernel_size=2, stride=2, padding=0, dilation=1, ceil_mode=False)\n",
      "  )\n",
      "  (final_exit): Sequential(\n",
      "    (0): AdaptiveAvgPool2d(output_size=1)\n",
      "    (1): Flatten(start_dim=1, end_dim=-1)\n",
      "    (2): Dropout(p=0.5, inplace=False)\n",
      "    (3): Linear(in_features=512, out_features=1024, bias=True)\n",
      "    (4): ReLU()\n",
      "    (5): BatchNorm1d(1024, eps=1e-05, momentum=0.1, affine=True, track_running_stats=True)\n",
      "    (6): Linear(in_features=1024, out_features=10, bias=True)\n",
      "  )\n",
      ")\n",
      "\n",
      "DQN network:\n",
      "Sequential(\n",
      "  (0): Linear(in_features=1, out_features=256, bias=True)\n",
      "  (1): ReLU()\n",
      "  (2): Linear(in_features=256, out_features=128, bias=True)\n",
      "  (3): ReLU()\n",
      "  (4): Linear(in_features=128, out_features=2, bias=True)\n",
      ")\n",
      "\n",
      "Exit outputs shapes:\n",
      "Exit 1: torch.Size([64, 10])\n",
      "Exit 2: torch.Size([64, 10])\n",
      "Exit 3: torch.Size([64, 10])\n",
      "Exit 4: torch.Size([64, 10])\n",
      "\n",
      "Q-values shape: torch.Size([1, 2])\n",
      "\n",
      "Setup completed successfully!\n"
     ]
    }
   ],
   "source": [
    "# Test the setup\n",
    "def test_setup():\n",
    "    # Load data\n",
    "    train_loader, test_loader = load_cifar10_data(batch_size=64)\n",
    "    print(f\"Training batches: {len(train_loader)}\")\n",
    "    print(f\"Test batches: {len(test_loader)}\")\n",
    "\n",
    "    # Initialize models\n",
    "    cnn_model, dqn_agent, env = initialize_models()\n",
    "    print(\"\\nModel architectures:\")\n",
    "    print(cnn_model)\n",
    "    print(\"\\nDQN network:\")\n",
    "    print(dqn_agent.q_network)\n",
    "\n",
    "    # Test forward pass\n",
    "    sample_batch = next(iter(train_loader))\n",
    "    images, labels = sample_batch\n",
    "    images = images.to(device)\n",
    "\n",
    "    # Test CNN forward pass\n",
    "    exits = cnn_model(images, return_all_exits=True)\n",
    "    print(\"\\nExit outputs shapes:\")\n",
    "    for i, exit_output in enumerate(exits):\n",
    "        print(f\"Exit {i+1}: {exit_output.shape}\")\n",
    "\n",
    "    # Test DQN forward pass\n",
    "    sample_state = torch.randn(1, 1).to(device)\n",
    "    q_values = dqn_agent.q_network(sample_state)\n",
    "    print(f\"\\nQ-values shape: {q_values.shape}\")\n",
    "\n",
    "    print(\"\\nSetup completed successfully!\")\n",
    "\n",
    "# Run the test\n",
    "test_setup()"
   ]
  },
  {
   "cell_type": "code",
   "execution_count": 11,
   "metadata": {
    "id": "A3kyuYOsex3I"
   },
   "outputs": [],
   "source": [
    "def pretrain_cnn(model, train_loader, val_loader=None, num_epochs=20):\n",
    "    \"\"\"\n",
    "    Enhanced pre-training with dynamic exit weights, validation monitoring,\n",
    "    and improved optimization strategy.\n",
    "    \"\"\"\n",
    "    print(\"Pre-training CNN...\")\n",
    "    model.train()\n",
    "\n",
    "    # Training metrics\n",
    "    train_losses = []\n",
    "    accuracies_per_exit = [[] for _ in range(4)]\n",
    "    best_val_acc = 0\n",
    "    patience = 5\n",
    "    patience_counter = 0\n",
    "\n",
    "    # Optimizer with cosine annealing\n",
    "    optimizer = optim.AdamW(model.parameters(), lr=0.001, weight_decay=1e-4)\n",
    "    scheduler = optim.lr_scheduler.CosineAnnealingWarmRestarts(\n",
    "        optimizer, T_0=10, T_mult=2, eta_min=1e-6  # Adjusted for 50 epochs\n",
    "    )\n",
    "\n",
    "    def get_dynamic_weights(epoch, num_epochs):\n",
    "        \"\"\"Calculate dynamic weights for exits based on training progress\"\"\"\n",
    "        progress = epoch / num_epochs\n",
    "        # Gradually shift importance to later exits\n",
    "        weights = torch.tensor([\n",
    "            0.4 * (1 - progress),  # Decrease weight of first exit\n",
    "            0.2 + 0.1 * progress,  # Slightly increase second exit\n",
    "            0.2 + 0.2 * progress,  # Moderately increase third exit\n",
    "            0.2 + 0.3 * progress   # Significantly increase final exit\n",
    "        ]).to(device)\n",
    "        return weights / weights.sum()  # Normalize weights\n",
    "\n",
    "    def validate_model(model, val_loader):\n",
    "        \"\"\"Evaluate model performance on validation set\"\"\"\n",
    "        model.eval()\n",
    "        val_losses = []\n",
    "        correct_per_exit = [0] * 4\n",
    "        total = 0\n",
    "\n",
    "        with torch.no_grad():\n",
    "            for data, target in val_loader:\n",
    "                data, target = data.to(device), target.to(device)\n",
    "                exits = model(data, return_all_exits=True)\n",
    "\n",
    "                for i, exit_output in enumerate(exits):\n",
    "                    loss = F.cross_entropy(exit_output, target)\n",
    "                    val_losses.append(loss.item())\n",
    "                    pred = exit_output.argmax(dim=1)\n",
    "                    correct_per_exit[i] += pred.eq(target).sum().item()\n",
    "                total += len(target)\n",
    "\n",
    "        # Calculate accuracies\n",
    "        accuracies = [100 * correct / total for correct in correct_per_exit]\n",
    "        avg_loss = sum(val_losses) / len(val_losses)\n",
    "\n",
    "        model.train()\n",
    "        return avg_loss, accuracies\n",
    "\n",
    "    for epoch in range(num_epochs):\n",
    "        epoch_loss = 0\n",
    "        correct_predictions = [0] * 4\n",
    "        total_samples = 0\n",
    "\n",
    "        # Get dynamic weights for this epoch\n",
    "        exit_weights = get_dynamic_weights(epoch, num_epochs)\n",
    "\n",
    "        progress_bar = tqdm(train_loader, desc=f'Epoch {epoch+1}/{num_epochs}')\n",
    "        for batch_idx, (data, target) in enumerate(progress_bar):\n",
    "            data, target = data.to(device), target.to(device)\n",
    "            optimizer.zero_grad()\n",
    "\n",
    "            # Get predictions from all exits\n",
    "            exits = model(data, return_all_exits=True)\n",
    "\n",
    "            # Compute weighted loss with dynamic weights\n",
    "            loss = 0\n",
    "            for i, (exit_output, weight) in enumerate(zip(exits, exit_weights)):\n",
    "                exit_loss = F.cross_entropy(exit_output, target)\n",
    "                loss += weight * exit_loss\n",
    "\n",
    "                # Track accuracy\n",
    "                pred = exit_output.argmax(dim=1)\n",
    "                correct_predictions[i] += pred.eq(target).sum().item()\n",
    "\n",
    "            loss.backward()\n",
    "            # Gradient clipping for stability\n",
    "            torch.nn.utils.clip_grad_norm_(model.parameters(), max_norm=1.0)\n",
    "            optimizer.step()\n",
    "\n",
    "            epoch_loss += loss.item()\n",
    "            total_samples += len(data)\n",
    "\n",
    "            # Update progress bar with metrics\n",
    "            avg_loss = epoch_loss/(batch_idx+1)\n",
    "            accuracies = [correct/total_samples * 100 for correct in correct_predictions]\n",
    "            progress_bar.set_postfix({\n",
    "                'loss': f'{avg_loss:.4f}',\n",
    "                'acc1': f'{accuracies[0]:.1f}%',\n",
    "                'acc2': f'{accuracies[1]:.1f}%',\n",
    "                'acc3': f'{accuracies[2]:.1f}%',\n",
    "                'acc4': f'{accuracies[3]:.1f}%'\n",
    "            })\n",
    "\n",
    "        # Validation phase\n",
    "        if val_loader is not None:\n",
    "            val_loss, val_accuracies = validate_model(model, val_loader)\n",
    "            print(f\"\\nValidation - Loss: {val_loss:.4f}, \"\n",
    "                  f\"Accuracies: {[f'{acc:.1f}%' for acc in val_accuracies]}\")\n",
    "\n",
    "            # Early stopping check\n",
    "            current_val_acc = val_accuracies[-1]  # Use final exit accuracy\n",
    "            if current_val_acc > best_val_acc:\n",
    "                best_val_acc = current_val_acc\n",
    "                patience_counter = 0\n",
    "            else:\n",
    "                patience_counter += 1\n",
    "                if patience_counter >= patience:\n",
    "                    print(\"Early stopping triggered!\")\n",
    "                    break\n",
    "\n",
    "        # Update learning rate\n",
    "        scheduler.step()\n",
    "\n",
    "        # Store metrics\n",
    "        train_losses.append(avg_loss)\n",
    "        for i in range(4):\n",
    "            accuracies_per_exit[i].append(accuracies[i])\n",
    "\n",
    "    print(\"CNN pre-training completed!\")\n",
    "    return train_losses, accuracies_per_exit"
   ]
  },
  {
   "cell_type": "code",
   "execution_count": 12,
   "metadata": {
    "id": "7raXMPamflkx"
   },
   "outputs": [],
   "source": [
    "def train_rl_agent(model, agent, env, train_loader, num_episodes=1000):\n",
    "    \"\"\"\n",
    "    Train the RL agent to learn when to exit the network.\n",
    "    Modified for CIFAR-10 with adjusted rewards and monitoring.\n",
    "    \"\"\"\n",
    "    print(\"Training RL agent...\")\n",
    "    model.eval()  # Set CNN to evaluation mode\n",
    "\n",
    "    episode = 0\n",
    "    total_rewards = []\n",
    "    exit_counts = [0, 0, 0, 0]  # Track which exits are being used\n",
    "    running_accuracy = []\n",
    "\n",
    "    progress_bar = tqdm(total=num_episodes, desc='Training RL agent')\n",
    "\n",
    "    while episode < num_episodes:\n",
    "        for data, target in train_loader:\n",
    "            if episode >= num_episodes:\n",
    "                break\n",
    "\n",
    "            data, target = data.to(device), target.to(device)\n",
    "\n",
    "            for i in range(len(data)):  # Process each sample in batch\n",
    "                # Reset environment with new sample\n",
    "                state = env.reset(data[i:i+1], target[i:i+1])\n",
    "                total_reward = 0\n",
    "                correct = False\n",
    "\n",
    "                while True:\n",
    "                    # Get action from agent\n",
    "                    action = agent.get_action(state)\n",
    "\n",
    "                    # Take action in environment\n",
    "                    next_state, reward, done = env.step(action)\n",
    "\n",
    "                    if done:\n",
    "                        exit_counts[env.exit_index] += 1\n",
    "                        if reward > 0:  # Track if prediction was correct\n",
    "                            correct = True\n",
    "\n",
    "                    # Store experience in memory\n",
    "                    if next_state is not None:\n",
    "                        agent.remember(state, action, reward, next_state, done)\n",
    "\n",
    "                    total_reward += reward\n",
    "\n",
    "                    if done:\n",
    "                        break\n",
    "\n",
    "                    state = next_state\n",
    "\n",
    "                # Train agent\n",
    "                agent.train()\n",
    "\n",
    "                total_rewards.append(total_reward)\n",
    "                running_accuracy.append(1.0 if correct else 0.0)\n",
    "                if len(running_accuracy) > 100:  # Keep track of last 100 episodes\n",
    "                    running_accuracy.pop(0)\n",
    "\n",
    "                episode += 1\n",
    "\n",
    "                # Update progress\n",
    "                if episode % 10 == 0:\n",
    "                    avg_reward = sum(total_rewards[-100:]) / min(len(total_rewards), 100)\n",
    "                    avg_accuracy = sum(running_accuracy) / len(running_accuracy)\n",
    "                    exit_distribution = [count/episode*100 for count in exit_counts]\n",
    "\n",
    "                    progress_bar.set_postfix({\n",
    "                        'avg_reward': f'{avg_reward:.2f}',\n",
    "                        'accuracy': f'{avg_accuracy:.2f}',\n",
    "                        'epsilon': f'{agent.epsilon:.2f}',\n",
    "                        'exit_dist': f'[{exit_distribution[0]:.1f}%, {exit_distribution[1]:.1f}%, {exit_distribution[2]:.1f}%, {exit_distribution[3]:.1f}%]'\n",
    "                    })\n",
    "                    progress_bar.update(10)\n",
    "\n",
    "                if episode >= num_episodes:\n",
    "                    break\n",
    "\n",
    "    print(\"RL agent training completed!\")\n",
    "    return total_rewards, exit_counts"
   ]
  },
  {
   "cell_type": "code",
   "execution_count": 13,
   "metadata": {
    "id": "YeEIRzpPfpIy"
   },
   "outputs": [],
   "source": [
    "def evaluate_model(model, agent, test_loader):\n",
    "    \"\"\"\n",
    "    Enhanced evaluation with confidence calibration, per-class metrics,\n",
    "    and detailed analysis of exit decisions.\n",
    "    \"\"\"\n",
    "    print(\"Evaluating model...\")\n",
    "    model.eval()\n",
    "\n",
    "    # Tracking metrics\n",
    "    correct = 0\n",
    "    total = 0\n",
    "    exit_counts = [0] * 4\n",
    "    class_correct = [0] * 10\n",
    "    class_total = [0] * 10\n",
    "    compute_saved = 0\n",
    "    confidence_stats = [[] for _ in range(4)]\n",
    "    exit_decision_changes = 0  # Track when predictions change between exits\n",
    "\n",
    "    classes = ('plane', 'car', 'bird', 'cat', 'deer',\n",
    "              'dog', 'frog', 'horse', 'ship', 'truck')\n",
    "\n",
    "    def get_calibrated_confidence(logits, temperature=1.0):\n",
    "        \"\"\"Apply temperature scaling for better calibrated confidence scores\"\"\"\n",
    "        scaled_logits = logits / temperature\n",
    "        probs = F.softmax(scaled_logits, dim=1)\n",
    "        return probs.max(1)[0]\n",
    "\n",
    "    def analyze_prediction_stability(exits, confidences):\n",
    "        \"\"\"Analyze how predictions change across exits\"\"\"\n",
    "        predictions = [exit.argmax(dim=1) for exit in exits]\n",
    "        changes = sum(1 for i in range(1, len(predictions))\n",
    "                     if predictions[i] != predictions[i-1])\n",
    "        return changes, predictions\n",
    "\n",
    "    with torch.no_grad():\n",
    "        for data, target in tqdm(test_loader, desc='Evaluating'):\n",
    "            data, target = data.to(device), target.to(device)\n",
    "            batch_size = len(data)\n",
    "\n",
    "            for i in range(batch_size):\n",
    "                sample = data[i:i+1]\n",
    "                sample_target = target[i:i+1]\n",
    "\n",
    "                # Get predictions from all exits\n",
    "                exits = model(sample, return_all_exits=True)\n",
    "\n",
    "                # Get calibrated confidences\n",
    "                confidences = [get_calibrated_confidence(exit) for exit in exits]\n",
    "\n",
    "                # Analyze prediction stability\n",
    "                pred_changes, predictions = analyze_prediction_stability(exits, confidences)\n",
    "\n",
    "                # Initialize state with first exit's confidence\n",
    "                state = confidences[0].cpu().numpy()\n",
    "                exit_point = 0\n",
    "                prev_pred = None\n",
    "\n",
    "                # Let agent make exit decisions\n",
    "                while True:\n",
    "                    action = agent.get_action(state)\n",
    "\n",
    "                    # Enhanced exit decision logic\n",
    "                    current_pred = exits[exit_point].argmax(dim=1)\n",
    "                    current_conf = confidences[exit_point].item()\n",
    "\n",
    "                    # Store confidence statistics\n",
    "                    confidence_stats[exit_point].append(current_conf)\n",
    "\n",
    "                    # Track prediction changes\n",
    "                    if prev_pred is not None and current_pred != prev_pred:\n",
    "                        exit_decision_changes += 1\n",
    "\n",
    "                    # Exit conditions with adaptive thresholds\n",
    "                    if action == 0:\n",
    "                        # Check if confidence is high enough for this exit\n",
    "                        min_conf = 0.98 - (exit_point * 0.05)  # Adaptive threshold\n",
    "                        if current_conf >= min_conf:\n",
    "                            break\n",
    "                        elif exit_point < len(exits) - 1:\n",
    "                            exit_point += 1\n",
    "                            state = confidences[exit_point].cpu().numpy()\n",
    "                            prev_pred = current_pred\n",
    "                            continue\n",
    "\n",
    "                    if exit_point == len(exits) - 1:\n",
    "                        break\n",
    "\n",
    "                    exit_point += 1\n",
    "                    state = confidences[exit_point].cpu().numpy()\n",
    "                    prev_pred = current_pred\n",
    "\n",
    "                # Record exit point\n",
    "                exit_counts[exit_point] += 1\n",
    "\n",
    "                # Check accuracy\n",
    "                final_prediction = exits[exit_point].argmax(dim=1)\n",
    "                correct_prediction = final_prediction.eq(sample_target).item()\n",
    "                correct += correct_prediction\n",
    "                total += 1\n",
    "\n",
    "                # Update per-class accuracy\n",
    "                class_idx = sample_target.item()\n",
    "                class_correct[class_idx] += correct_prediction\n",
    "                class_total[class_idx] += 1\n",
    "\n",
    "                # Calculate compute saved\n",
    "                compute_saved += (3 - exit_point) / 3\n",
    "\n",
    "    # Calculate overall metrics\n",
    "    accuracy = 100. * correct / total\n",
    "    exit_distribution = [count/total*100 for count in exit_counts]\n",
    "    compute_saved = compute_saved / total * 100\n",
    "\n",
    "    # Calculate confidence statistics\n",
    "    confidence_means = [np.mean(confs) if confs else 0 for confs in confidence_stats]\n",
    "    confidence_stds = [np.std(confs) if confs else 0 for confs in confidence_stats]\n",
    "\n",
    "    # Print comprehensive evaluation results\n",
    "    print(f\"\\nTest Results:\")\n",
    "    print(f\"Overall Accuracy: {accuracy:.2f}%\")\n",
    "    print(f\"Exit Distribution: Exit1={exit_distribution[0]:.1f}%, \"\n",
    "          f\"Exit2={exit_distribution[1]:.1f}%, \"\n",
    "          f\"Exit3={exit_distribution[2]:.1f}%, \"\n",
    "          f\"Exit4={exit_distribution[3]:.1f}%\")\n",
    "    print(f\"Compute Saved: {compute_saved:.1f}%\")\n",
    "    print(f\"Prediction Changes Between Exits: {exit_decision_changes}\")\n",
    "\n",
    "    print(\"\\nConfidence Statistics:\")\n",
    "    for i in range(4):\n",
    "        print(f\"Exit {i+1}: Mean={confidence_means[i]:.3f}, Std={confidence_stds[i]:.3f}\")\n",
    "\n",
    "    print(\"\\nPer-class Accuracy:\")\n",
    "    for i in range(10):\n",
    "        class_acc = 100 * class_correct[i] / class_total[i]\n",
    "        print(f'{classes[i]}: {class_acc:.2f}%')\n",
    "\n",
    "    # Calculate effectiveness score\n",
    "    effectiveness = accuracy * (compute_saved/100)  # Balance between accuracy and efficiency\n",
    "    print(f\"\\nEffectiveness Score: {effectiveness:.2f}\")\n",
    "\n",
    "    return {\n",
    "        'accuracy': accuracy,\n",
    "        'exit_distribution': exit_distribution,\n",
    "        'compute_saved': compute_saved,\n",
    "        'confidence_stats': {\n",
    "            'means': confidence_means,\n",
    "            'stds': confidence_stds\n",
    "        },\n",
    "        'class_accuracies': [100 * correct / total for correct, total in zip(class_correct, class_total)],\n",
    "        'effectiveness': effectiveness,\n",
    "        'exit_decision_changes': exit_decision_changes\n",
    "    }"
   ]
  },
  {
   "cell_type": "code",
   "execution_count": 14,
   "metadata": {
    "id": "jYm5e95C4CXf"
   },
   "outputs": [],
   "source": [
    "import matplotlib.pyplot as plt\n",
    "import seaborn as sns\n",
    "import numpy as np"
   ]
  },
  {
   "cell_type": "code",
   "execution_count": 15,
   "metadata": {
    "id": "uuVEZdYy4IZd"
   },
   "outputs": [],
   "source": [
    "def plot_training_metrics(train_losses, accuracies_per_exit, exit_distributions):\n",
    "    \"\"\"\n",
    "    Visualize training progress with multiple metrics.\n",
    "    Shows loss curve, accuracy per exit point, and exit point distribution.\n",
    "    \"\"\"\n",
    "    fig, (ax1, ax2, ax3) = plt.subplots(1, 3, figsize=(20, 6))\n",
    "\n",
    "    # Plot training loss\n",
    "    ax1.plot(train_losses)\n",
    "    ax1.set_title('Training Loss Over Time')\n",
    "    ax1.set_xlabel('Batch')\n",
    "    ax1.set_ylabel('Loss')\n",
    "    ax1.grid(True)\n",
    "\n",
    "    # Plot accuracy for each exit\n",
    "    for i, accs in enumerate(accuracies_per_exit):\n",
    "        ax2.plot(accs, label=f'Exit {i+1}')\n",
    "    ax2.set_title('Accuracy per Exit Point')\n",
    "    ax2.set_xlabel('Epoch')\n",
    "    ax2.set_ylabel('Accuracy (%)')\n",
    "    ax2.legend()\n",
    "    ax2.grid(True)\n",
    "\n",
    "    # Plot exit distribution\n",
    "    exits = ['Exit 1', 'Exit 2', 'Exit 3', 'Exit 4']\n",
    "    ax3.bar(exits, exit_distributions)\n",
    "    ax3.set_title('Exit Point Distribution')\n",
    "    ax3.set_ylabel('Percentage of Samples')\n",
    "    ax3.set_ylim(0, 100)\n",
    "\n",
    "    plt.tight_layout()\n",
    "    plt.show()"
   ]
  },
  {
   "cell_type": "code",
   "execution_count": 16,
   "metadata": {
    "id": "lvRcdthg4Mwg"
   },
   "outputs": [],
   "source": [
    "def visualize_class_exits(model, agent, test_loader, num_samples=50):\n",
    "    \"\"\"\n",
    "    Visualize which classes tend to exit at which points.\n",
    "    Creates a heatmap showing the relationship between classes and exit points.\n",
    "    \"\"\"\n",
    "    classes = ('plane', 'car', 'bird', 'cat', 'deer',\n",
    "              'dog', 'frog', 'horse', 'ship', 'truck')\n",
    "\n",
    "    exit_stats = np.zeros((10, 4))  # 10 classes, 4 exit points\n",
    "    class_counts = np.zeros(10)\n",
    "\n",
    "    model.eval()\n",
    "    with torch.no_grad():\n",
    "        for data, target in test_loader:\n",
    "            data, target = data.to(device), target.to(device)\n",
    "\n",
    "            for i in range(len(data)):\n",
    "                sample = data[i:i+1]\n",
    "                label = target[i].item()\n",
    "\n",
    "                # Get predictions from all exits\n",
    "                exits = model(sample, return_all_exits=True)\n",
    "\n",
    "                # Determine exit point using agent\n",
    "                state = F.softmax(exits[0], dim=1).max(1)[0].cpu().numpy()\n",
    "                exit_point = 0\n",
    "\n",
    "                while True:\n",
    "                    action = agent.get_action(state)\n",
    "                    if action == 0 or exit_point == len(exits) - 1:\n",
    "                        break\n",
    "                    exit_point += 1\n",
    "                    state = F.softmax(exits[exit_point], dim=1).max(1)[0].cpu().numpy()\n",
    "\n",
    "                exit_stats[label, exit_point] += 1\n",
    "                class_counts[label] += 1\n",
    "\n",
    "                if np.sum(class_counts) >= num_samples * 10:\n",
    "                    break\n",
    "            if np.sum(class_counts) >= num_samples * 10:\n",
    "                break\n",
    "\n",
    "    # Normalize by class counts\n",
    "    exit_stats = exit_stats / class_counts[:, np.newaxis] * 100\n",
    "\n",
    "    # Create heatmap\n",
    "    plt.figure(figsize=(12, 8))\n",
    "    sns.heatmap(exit_stats,\n",
    "                xticklabels=['Exit 1', 'Exit 2', 'Exit 3', 'Exit 4'],\n",
    "                yticklabels=classes,\n",
    "                annot=True,\n",
    "                fmt='.1f',\n",
    "                cmap='YlOrRd')\n",
    "    plt.title('Exit Point Distribution by Class (%)')\n",
    "    plt.xlabel('Exit Point')\n",
    "    plt.ylabel('Class')\n",
    "    plt.show()"
   ]
  },
  {
   "cell_type": "code",
   "execution_count": 17,
   "metadata": {
    "id": "plUAxlRh4Rap"
   },
   "outputs": [],
   "source": [
    "def visualize_exit_decisions(model, agent, test_loader, num_samples=10):\n",
    "    \"\"\"\n",
    "    Visualize sample images and their exit points.\n",
    "    Shows confidence levels and actual vs predicted classes.\n",
    "    \"\"\"\n",
    "    classes = ('plane', 'car', 'bird', 'cat', 'deer',\n",
    "              'dog', 'frog', 'horse', 'ship', 'truck')\n",
    "\n",
    "    model.eval()\n",
    "    images, labels = next(iter(test_loader))\n",
    "    images, labels = images[:num_samples].to(device), labels[:num_samples].to(device)\n",
    "\n",
    "    fig, axes = plt.subplots(2, 5, figsize=(20, 8))\n",
    "    axes = axes.ravel()\n",
    "\n",
    "    with torch.no_grad():\n",
    "        for i, (image, label) in enumerate(zip(images, labels)):\n",
    "            # Get predictions from all exits\n",
    "            exits = model(image.unsqueeze(0), return_all_exits=True)\n",
    "\n",
    "            # Get confidence scores and determine exit point\n",
    "            confidences = [F.softmax(exit, dim=1).max(1)[0].item() for exit in exits]\n",
    "\n",
    "            state = confidences[0]\n",
    "            exit_point = 0\n",
    "            while True:\n",
    "                action = agent.get_action([state])\n",
    "                if action == 0 or exit_point == len(exits) - 1:\n",
    "                    break\n",
    "                exit_point += 1\n",
    "                state = confidences[exit_point]\n",
    "\n",
    "            # Get prediction\n",
    "            pred = exits[exit_point].argmax(1).item()\n",
    "\n",
    "            # Plot image\n",
    "            img = image.cpu().numpy().transpose(1, 2, 0)\n",
    "            # Denormalize image\n",
    "            img = img * np.array([0.2023, 0.1994, 0.2010]) + np.array([0.4914, 0.4822, 0.4465])\n",
    "            img = np.clip(img, 0, 1)\n",
    "\n",
    "            axes[i].imshow(img)\n",
    "            axes[i].axis('off')\n",
    "            title = f'True: {classes[label]}\\nPred: {classes[pred]}\\nExit: {exit_point+1}\\nConf: {confidences[exit_point]:.2f}'\n",
    "            # Color code the title based on correct/incorrect prediction\n",
    "            color = 'green' if pred == label else 'red'\n",
    "            axes[i].set_title(title, color=color)\n",
    "\n",
    "    plt.tight_layout()\n",
    "    plt.show()"
   ]
  },
  {
   "cell_type": "code",
   "execution_count": 18,
   "metadata": {
    "id": "dJFFxgEb4T_-"
   },
   "outputs": [],
   "source": [
    "def plot_confidence_distributions(model, test_loader):\n",
    "    \"\"\"\n",
    "    Plot confidence distribution at each exit point.\n",
    "    Shows how confidence levels vary across different exits.\n",
    "    \"\"\"\n",
    "    confidences_per_exit = [[] for _ in range(4)]\n",
    "\n",
    "    model.eval()\n",
    "    with torch.no_grad():\n",
    "        for data, _ in test_loader:\n",
    "            data = data.to(device)\n",
    "            exits = model(data, return_all_exits=True)\n",
    "\n",
    "            for i, exit in enumerate(exits):\n",
    "                confs = F.softmax(exit, dim=1).max(1)[0].cpu().numpy()\n",
    "                confidences_per_exit[i].extend(confs)\n",
    "\n",
    "    plt.figure(figsize=(12, 6))\n",
    "    for i, confs in enumerate(confidences_per_exit):\n",
    "        plt.hist(confs, bins=50, alpha=0.5, label=f'Exit {i+1}')\n",
    "\n",
    "    plt.title('Confidence Distribution at Each Exit')\n",
    "    plt.xlabel('Confidence')\n",
    "    plt.ylabel('Count')\n",
    "    plt.legend()\n",
    "    plt.grid(True)\n",
    "    plt.show()"
   ]
  },
  {
   "cell_type": "code",
   "execution_count": 19,
   "metadata": {
    "id": "yf3L_SFuLa66"
   },
   "outputs": [],
   "source": [
    "def analyze_per_class_exits(model, test_loader, device):\n",
    "    \"\"\"\n",
    "    Analyzes the performance of each exit point for each class.\n",
    "    Returns detailed metrics about accuracy and confidence per class per exit.\n",
    "    \"\"\"\n",
    "    model.eval()\n",
    "\n",
    "    # Initialize tracking matrices\n",
    "    num_classes = 10\n",
    "    num_exits = 4\n",
    "\n",
    "    # Track correct predictions and total instances for each class at each exit\n",
    "    correct_per_class_exit = torch.zeros((num_exits, num_classes))\n",
    "    total_per_class_exit = torch.zeros((num_exits, num_classes))\n",
    "\n",
    "    # Track confidence scores\n",
    "    confidence_sums = torch.zeros((num_exits, num_classes))\n",
    "\n",
    "    classes = ('plane', 'car', 'bird', 'cat', 'deer',\n",
    "              'dog', 'frog', 'horse', 'ship', 'truck')\n",
    "\n",
    "    with torch.no_grad():\n",
    "        for data, targets in tqdm(test_loader, desc='Analyzing exits'):\n",
    "            data, targets = data.to(device), targets.to(device)\n",
    "\n",
    "            # Get predictions from all exits\n",
    "            exits = model(data, return_all_exits=True)\n",
    "\n",
    "            # Analyze each exit point\n",
    "            for exit_idx, exit_output in enumerate(exits):\n",
    "                # Get predictions and confidence scores\n",
    "                confidences, predictions = torch.max(F.softmax(exit_output, dim=1), dim=1)\n",
    "\n",
    "                # Update metrics for each class\n",
    "                for class_idx in range(num_classes):\n",
    "                    # Create mask for current class\n",
    "                    class_mask = targets == class_idx\n",
    "\n",
    "                    # Count total instances of this class\n",
    "                    total_per_class_exit[exit_idx][class_idx] += class_mask.sum().item()\n",
    "\n",
    "                    # Count correct predictions for this class\n",
    "                    correct_predictions = (predictions == targets) & class_mask\n",
    "                    correct_per_class_exit[exit_idx][class_idx] += correct_predictions.sum().item()\n",
    "\n",
    "                    # Sum confidence scores for this class\n",
    "                    confidence_sums[exit_idx][class_idx] += confidences[class_mask].sum().item()\n",
    "\n",
    "    # Calculate accuracies and average confidences\n",
    "    accuracies = correct_per_class_exit / total_per_class_exit\n",
    "    avg_confidences = confidence_sums / total_per_class_exit\n",
    "\n",
    "    # Print detailed analysis\n",
    "    print(\"\\nPer-Class Accuracy at Each Exit Point:\")\n",
    "    print(\"-\" * 50)\n",
    "\n",
    "    for class_idx, class_name in enumerate(classes):\n",
    "        print(f\"\\n{class_name.upper()}:\")\n",
    "        for exit_idx in range(num_exits):\n",
    "            acc = accuracies[exit_idx][class_idx] * 100\n",
    "            conf = avg_confidences[exit_idx][class_idx]\n",
    "            total = total_per_class_exit[exit_idx][class_idx]\n",
    "            print(f\"Exit {exit_idx + 1}: \"\n",
    "                  f\"Accuracy = {acc:.2f}%, \"\n",
    "                  f\"Avg Confidence = {conf:.3f}, \"\n",
    "                  f\"Samples = {total:.0f}\")\n",
    "\n",
    "    # Return detailed metrics for visualization\n",
    "    return {\n",
    "        'accuracies': accuracies.numpy(),\n",
    "        'confidences': avg_confidences.numpy(),\n",
    "        'totals': total_per_class_exit.numpy(),\n",
    "        'classes': classes\n",
    "    }"
   ]
  },
  {
   "cell_type": "code",
   "execution_count": 20,
   "metadata": {
    "id": "k3GcBUbqLgTe"
   },
   "outputs": [],
   "source": [
    "def visualize_exit_analysis(metrics):\n",
    "    \"\"\"\n",
    "    Creates visualizations of the exit analysis results.\n",
    "    \"\"\"\n",
    "    accuracies = metrics['accuracies']\n",
    "    classes = metrics['classes']\n",
    "\n",
    "    # Create accuracy comparison plot\n",
    "    plt.figure(figsize=(15, 8))\n",
    "    x = np.arange(len(classes))\n",
    "    width = 0.2\n",
    "\n",
    "    for i in range(4):\n",
    "        plt.bar(x + i*width, accuracies[i] * 100, width,\n",
    "                label=f'Exit {i+1}')\n",
    "\n",
    "    plt.xlabel('Classes')\n",
    "    plt.ylabel('Accuracy (%)')\n",
    "    plt.title('Per-Class Accuracy at Each Exit')\n",
    "    plt.xticks(x + width*1.5, classes, rotation=45)\n",
    "    plt.legend()\n",
    "    plt.grid(True, alpha=0.3)\n",
    "    plt.tight_layout()\n",
    "    plt.show()\n",
    "\n",
    "    # Create heatmap of accuracies\n",
    "    plt.figure(figsize=(12, 8))\n",
    "    sns.heatmap(accuracies * 100,\n",
    "                xticklabels=classes,\n",
    "                yticklabels=[f'Exit {i+1}' for i in range(4)],\n",
    "                annot=True,\n",
    "                fmt='.1f',\n",
    "                cmap='YlOrRd')\n",
    "    plt.title('Accuracy Heatmap: Exits vs Classes')\n",
    "    plt.tight_layout()\n",
    "    plt.show()"
   ]
  },
  {
   "cell_type": "code",
   "execution_count": 21,
   "metadata": {
    "id": "EsT4zXVjfqF6"
   },
   "outputs": [],
   "source": [
    "def run_training_pipeline():\n",
    "    print(\"Starting improved training pipeline...\")\n",
    "\n",
    "    # Load data with more varied batch sizes\n",
    "    train_loader, test_loader = load_cifar10_data(batch_size=128)\n",
    "    # Initialize models\n",
    "    cnn_model, dqn_agent, env = initialize_models()\n",
    "\n",
    "    # Pre-train CNN for more epochs\n",
    "    train_losses, accuracies_per_exit = pretrain_cnn(cnn_model, train_loader, num_epochs=50)\n",
    "\n",
    "    # Train RL agent with more episodes\n",
    "    rewards, exit_counts = train_rl_agent(\n",
    "        cnn_model,\n",
    "        dqn_agent,\n",
    "        env,\n",
    "        train_loader,\n",
    "        num_episodes=5000\n",
    "    )\n",
    "\n",
    "    # Evaluate and visualize\n",
    "    metrics = evaluate_model(\n",
    "        cnn_model,\n",
    "        dqn_agent,\n",
    "        test_loader\n",
    "    )\n",
    "\n",
    "    # Add our new detailed exit analysis\n",
    "    print(\"\\nPerforming detailed exit analysis...\")\n",
    "    exit_metrics = analyze_per_class_exits(cnn_model, test_loader, device)\n",
    "    visualize_exit_analysis(exit_metrics)\n",
    "\n",
    "    # Existing visualizations\n",
    "    plot_training_metrics(\n",
    "        train_losses=train_losses,\n",
    "        accuracies_per_exit=accuracies_per_exit,\n",
    "        exit_distributions=metrics['exit_distribution']\n",
    "    )\n",
    "\n",
    "    visualize_exit_decisions(cnn_model, dqn_agent, test_loader)\n",
    "    visualize_class_exits(cnn_model, dqn_agent, test_loader)\n",
    "    plot_confidence_distributions(cnn_model, test_loader)\n",
    "\n",
    "    return cnn_model, dqn_agent, metrics, exit_metrics"
   ]
  },
  {
   "cell_type": "code",
   "execution_count": 22,
   "metadata": {
    "colab": {
     "base_uri": "https://localhost:8080/",
     "height": 214,
     "referenced_widgets": [
      "6d19dfdafb0a47fc8f72be3e8e60fe60",
      "3181d44dea7640bf9b424b82a91a2743",
      "166f4dbdafe2401d9b0f1f219c5ce1d5",
      "d8cf7ad769dd4dab9f8d66e28be3787c",
      "749bc26e908d4706b99fb4d69a62c613",
      "7834c17ef32240b6a2496185518eebff",
      "84c3edfbd8494a929d05b3d755b937b9",
      "afe30309450e4852a1009ae5e01503d0",
      "d569c85adf4748788a946f67cf5c5e02",
      "b637ce37652d4ff7b638269a570b5756",
      "0dea5853cf3e447288237979edc7d283",
      "3b390710892742b89e48b5fee4c7d97e",
      "59d3636e10bc4c5e9916576350c5811a",
      "8819a4936ba84084ac4c5beea40eaa59",
      "56bc826413e74d38aaf29c41a9032824",
      "b7c60cdbc14c4eaa9deeae5c958c894d",
      "2ae1a2dd967143ac86c17d33e2c8758c",
      "dc8649a92e4642b3a71c9b3ce5663279",
      "cfb4786062694445832700bdf0b5a033",
      "a00ea44f297446de9b2adf3b55c4da1b",
      "18a494ec322a4354984b7b4321f7fb7b",
      "1e37c80c7d304571885cadeea772c6be",
      "06c044d8724b4be995496a2324c194e2",
      "777696cfd6a148deac4172b4eb5af07c",
      "2da287b3d56a483696cd32ad2b226332",
      "a71e01756e4b46eabf4feb3b66d173ab",
      "f0ac3d3562774764bc757f6c333c2165",
      "f112639a84434e5784bfd9d6f50d352b",
      "e37837f1dae04e4c80e7157cb200e27c",
      "0b7d793051b949f4ad4805970e4ae993",
      "9a3ef1a7fb4a402abd597ac99ec72459",
      "f861f44f1a094380bb88511ba89647ed",
      "ecf83bf3bc01478e96656c317704b184",
      "ac43dd7b83ef484a87abcba59321ac20",
      "3af1fda2480d418dafb77619b775f078",
      "5b0b3fafd99648d9be8ebe2de2954501",
      "ab9cbcb966e744a6969642d1ce3e94b6",
      "ec981c869529475fa31885d0d6d29632",
      "d68857f945134359a402de9d05f062af",
      "87f0faf825c04777b9b3e5eb6e3b5a05",
      "c60e351f2f0448b28ca3a9d26d598cfd",
      "c8d514efb9704b3eb447fb5285a71f01",
      "cf7cbb85737d45d3bd7bf6dbbc0dde84",
      "ef9c6802992c465fbb0bf6b3ff206e87"
     ]
    },
    "id": "gaqpw880ghcV",
    "outputId": "cb914330-6341-4b63-d972-b034719fa8a5"
   },
   "outputs": [
    {
     "name": "stdout",
     "output_type": "stream",
     "text": [
      "Starting improved training pipeline...\n",
      "Files already downloaded and verified\n",
      "Files already downloaded and verified\n",
      "Pre-training CNN...\n"
     ]
    },
    {
     "data": {
      "application/vnd.jupyter.widget-view+json": {
       "model_id": "553a5c029ff04872823ff801d90824c7",
       "version_major": 2,
       "version_minor": 0
      },
      "text/plain": [
       "Epoch 1/50:   0%|          | 0/391 [00:00<?, ?it/s]"
      ]
     },
     "metadata": {},
     "output_type": "display_data"
    },
    {
     "data": {
      "application/vnd.jupyter.widget-view+json": {
       "model_id": "f074be1ca0bd4e179c17bb7f7f561d1a",
       "version_major": 2,
       "version_minor": 0
      },
      "text/plain": [
       "Epoch 2/50:   0%|          | 0/391 [00:00<?, ?it/s]"
      ]
     },
     "metadata": {},
     "output_type": "display_data"
    },
    {
     "data": {
      "application/vnd.jupyter.widget-view+json": {
       "model_id": "b96d8814e13a4bc58ab9ae3ae51e0b44",
       "version_major": 2,
       "version_minor": 0
      },
      "text/plain": [
       "Epoch 3/50:   0%|          | 0/391 [00:00<?, ?it/s]"
      ]
     },
     "metadata": {},
     "output_type": "display_data"
    },
    {
     "data": {
      "application/vnd.jupyter.widget-view+json": {
       "model_id": "14824bce824c4c3dad5b7c301ee87854",
       "version_major": 2,
       "version_minor": 0
      },
      "text/plain": [
       "Epoch 4/50:   0%|          | 0/391 [00:00<?, ?it/s]"
      ]
     },
     "metadata": {},
     "output_type": "display_data"
    },
    {
     "data": {
      "application/vnd.jupyter.widget-view+json": {
       "model_id": "6e6e6917984c42e1a3e975904ec417e9",
       "version_major": 2,
       "version_minor": 0
      },
      "text/plain": [
       "Epoch 5/50:   0%|          | 0/391 [00:00<?, ?it/s]"
      ]
     },
     "metadata": {},
     "output_type": "display_data"
    },
    {
     "data": {
      "application/vnd.jupyter.widget-view+json": {
       "model_id": "86df6daec6df4567baa6e9d53b95b9f2",
       "version_major": 2,
       "version_minor": 0
      },
      "text/plain": [
       "Epoch 6/50:   0%|          | 0/391 [00:00<?, ?it/s]"
      ]
     },
     "metadata": {},
     "output_type": "display_data"
    },
    {
     "data": {
      "application/vnd.jupyter.widget-view+json": {
       "model_id": "8f61ad34c9e84aa199ae1000bcf9ccf3",
       "version_major": 2,
       "version_minor": 0
      },
      "text/plain": [
       "Epoch 7/50:   0%|          | 0/391 [00:00<?, ?it/s]"
      ]
     },
     "metadata": {},
     "output_type": "display_data"
    },
    {
     "data": {
      "application/vnd.jupyter.widget-view+json": {
       "model_id": "67e5f6822f7249aeb609d5b86b514fec",
       "version_major": 2,
       "version_minor": 0
      },
      "text/plain": [
       "Epoch 8/50:   0%|          | 0/391 [00:00<?, ?it/s]"
      ]
     },
     "metadata": {},
     "output_type": "display_data"
    },
    {
     "data": {
      "application/vnd.jupyter.widget-view+json": {
       "model_id": "f9ffb73dd1984071b232648d302137da",
       "version_major": 2,
       "version_minor": 0
      },
      "text/plain": [
       "Epoch 9/50:   0%|          | 0/391 [00:00<?, ?it/s]"
      ]
     },
     "metadata": {},
     "output_type": "display_data"
    },
    {
     "data": {
      "application/vnd.jupyter.widget-view+json": {
       "model_id": "2e81cf9e236b4660ab89f1522773b815",
       "version_major": 2,
       "version_minor": 0
      },
      "text/plain": [
       "Epoch 10/50:   0%|          | 0/391 [00:00<?, ?it/s]"
      ]
     },
     "metadata": {},
     "output_type": "display_data"
    },
    {
     "data": {
      "application/vnd.jupyter.widget-view+json": {
       "model_id": "684e6e648b6b49468a2af5bfa384a5e7",
       "version_major": 2,
       "version_minor": 0
      },
      "text/plain": [
       "Epoch 11/50:   0%|          | 0/391 [00:00<?, ?it/s]"
      ]
     },
     "metadata": {},
     "output_type": "display_data"
    },
    {
     "data": {
      "application/vnd.jupyter.widget-view+json": {
       "model_id": "f54abf0800c94aef814af772fc8d1ae5",
       "version_major": 2,
       "version_minor": 0
      },
      "text/plain": [
       "Epoch 12/50:   0%|          | 0/391 [00:00<?, ?it/s]"
      ]
     },
     "metadata": {},
     "output_type": "display_data"
    },
    {
     "data": {
      "application/vnd.jupyter.widget-view+json": {
       "model_id": "eab78f09e2d241c897b8e8a7432d4cb2",
       "version_major": 2,
       "version_minor": 0
      },
      "text/plain": [
       "Epoch 13/50:   0%|          | 0/391 [00:00<?, ?it/s]"
      ]
     },
     "metadata": {},
     "output_type": "display_data"
    },
    {
     "data": {
      "application/vnd.jupyter.widget-view+json": {
       "model_id": "d46ec7efe1ea4e36b8906fd52ce4aa34",
       "version_major": 2,
       "version_minor": 0
      },
      "text/plain": [
       "Epoch 14/50:   0%|          | 0/391 [00:00<?, ?it/s]"
      ]
     },
     "metadata": {},
     "output_type": "display_data"
    },
    {
     "data": {
      "application/vnd.jupyter.widget-view+json": {
       "model_id": "ea83e0d491ae420cab052bbf4f6947cf",
       "version_major": 2,
       "version_minor": 0
      },
      "text/plain": [
       "Epoch 15/50:   0%|          | 0/391 [00:00<?, ?it/s]"
      ]
     },
     "metadata": {},
     "output_type": "display_data"
    },
    {
     "data": {
      "application/vnd.jupyter.widget-view+json": {
       "model_id": "aed47a64e69645ccb8f8d9f1199a1c84",
       "version_major": 2,
       "version_minor": 0
      },
      "text/plain": [
       "Epoch 16/50:   0%|          | 0/391 [00:00<?, ?it/s]"
      ]
     },
     "metadata": {},
     "output_type": "display_data"
    },
    {
     "data": {
      "application/vnd.jupyter.widget-view+json": {
       "model_id": "0514a355c47c4ea9824311d72a76a85f",
       "version_major": 2,
       "version_minor": 0
      },
      "text/plain": [
       "Epoch 17/50:   0%|          | 0/391 [00:00<?, ?it/s]"
      ]
     },
     "metadata": {},
     "output_type": "display_data"
    },
    {
     "data": {
      "application/vnd.jupyter.widget-view+json": {
       "model_id": "064010ecbad646409ffaab26f9696d5c",
       "version_major": 2,
       "version_minor": 0
      },
      "text/plain": [
       "Epoch 18/50:   0%|          | 0/391 [00:00<?, ?it/s]"
      ]
     },
     "metadata": {},
     "output_type": "display_data"
    },
    {
     "data": {
      "application/vnd.jupyter.widget-view+json": {
       "model_id": "0a9c3554f4df4348b4a30a8afba5a6d8",
       "version_major": 2,
       "version_minor": 0
      },
      "text/plain": [
       "Epoch 19/50:   0%|          | 0/391 [00:00<?, ?it/s]"
      ]
     },
     "metadata": {},
     "output_type": "display_data"
    },
    {
     "data": {
      "application/vnd.jupyter.widget-view+json": {
       "model_id": "0e1ac6cd6a5441748391333a2295aa18",
       "version_major": 2,
       "version_minor": 0
      },
      "text/plain": [
       "Epoch 20/50:   0%|          | 0/391 [00:00<?, ?it/s]"
      ]
     },
     "metadata": {},
     "output_type": "display_data"
    },
    {
     "data": {
      "application/vnd.jupyter.widget-view+json": {
       "model_id": "9f2ea28033194e20873175213e390867",
       "version_major": 2,
       "version_minor": 0
      },
      "text/plain": [
       "Epoch 21/50:   0%|          | 0/391 [00:00<?, ?it/s]"
      ]
     },
     "metadata": {},
     "output_type": "display_data"
    },
    {
     "data": {
      "application/vnd.jupyter.widget-view+json": {
       "model_id": "68cbee55228c465694972ccbca695a86",
       "version_major": 2,
       "version_minor": 0
      },
      "text/plain": [
       "Epoch 22/50:   0%|          | 0/391 [00:00<?, ?it/s]"
      ]
     },
     "metadata": {},
     "output_type": "display_data"
    },
    {
     "data": {
      "application/vnd.jupyter.widget-view+json": {
       "model_id": "e29da536814b448bbf4e197d6f3c35f6",
       "version_major": 2,
       "version_minor": 0
      },
      "text/plain": [
       "Epoch 23/50:   0%|          | 0/391 [00:00<?, ?it/s]"
      ]
     },
     "metadata": {},
     "output_type": "display_data"
    },
    {
     "data": {
      "application/vnd.jupyter.widget-view+json": {
       "model_id": "5fe1c1c3828346ab92cc887a5664242a",
       "version_major": 2,
       "version_minor": 0
      },
      "text/plain": [
       "Epoch 24/50:   0%|          | 0/391 [00:00<?, ?it/s]"
      ]
     },
     "metadata": {},
     "output_type": "display_data"
    },
    {
     "data": {
      "application/vnd.jupyter.widget-view+json": {
       "model_id": "c9a9a9461029471ab22bfaa429faec70",
       "version_major": 2,
       "version_minor": 0
      },
      "text/plain": [
       "Epoch 25/50:   0%|          | 0/391 [00:00<?, ?it/s]"
      ]
     },
     "metadata": {},
     "output_type": "display_data"
    },
    {
     "data": {
      "application/vnd.jupyter.widget-view+json": {
       "model_id": "52cb6c09606044a38be5b5f98e363435",
       "version_major": 2,
       "version_minor": 0
      },
      "text/plain": [
       "Epoch 26/50:   0%|          | 0/391 [00:00<?, ?it/s]"
      ]
     },
     "metadata": {},
     "output_type": "display_data"
    },
    {
     "data": {
      "application/vnd.jupyter.widget-view+json": {
       "model_id": "6667cda59b3441289760279c51ff3e6a",
       "version_major": 2,
       "version_minor": 0
      },
      "text/plain": [
       "Epoch 27/50:   0%|          | 0/391 [00:00<?, ?it/s]"
      ]
     },
     "metadata": {},
     "output_type": "display_data"
    },
    {
     "data": {
      "application/vnd.jupyter.widget-view+json": {
       "model_id": "abaaa2e05ade48f28d4f3a4557ff1081",
       "version_major": 2,
       "version_minor": 0
      },
      "text/plain": [
       "Epoch 28/50:   0%|          | 0/391 [00:00<?, ?it/s]"
      ]
     },
     "metadata": {},
     "output_type": "display_data"
    },
    {
     "data": {
      "application/vnd.jupyter.widget-view+json": {
       "model_id": "c00f8b46158a4af08c62f1acc03fae02",
       "version_major": 2,
       "version_minor": 0
      },
      "text/plain": [
       "Epoch 29/50:   0%|          | 0/391 [00:00<?, ?it/s]"
      ]
     },
     "metadata": {},
     "output_type": "display_data"
    },
    {
     "data": {
      "application/vnd.jupyter.widget-view+json": {
       "model_id": "bd49c4919be24be2856017cec42e15f7",
       "version_major": 2,
       "version_minor": 0
      },
      "text/plain": [
       "Epoch 30/50:   0%|          | 0/391 [00:00<?, ?it/s]"
      ]
     },
     "metadata": {},
     "output_type": "display_data"
    },
    {
     "data": {
      "application/vnd.jupyter.widget-view+json": {
       "model_id": "2c3f082eacb2444e964823ab4e4bb8db",
       "version_major": 2,
       "version_minor": 0
      },
      "text/plain": [
       "Epoch 31/50:   0%|          | 0/391 [00:00<?, ?it/s]"
      ]
     },
     "metadata": {},
     "output_type": "display_data"
    },
    {
     "data": {
      "application/vnd.jupyter.widget-view+json": {
       "model_id": "fadebec3b97240688adc74aaffd00214",
       "version_major": 2,
       "version_minor": 0
      },
      "text/plain": [
       "Epoch 32/50:   0%|          | 0/391 [00:00<?, ?it/s]"
      ]
     },
     "metadata": {},
     "output_type": "display_data"
    },
    {
     "data": {
      "application/vnd.jupyter.widget-view+json": {
       "model_id": "a175266b34d542c396615b0876ce988a",
       "version_major": 2,
       "version_minor": 0
      },
      "text/plain": [
       "Epoch 33/50:   0%|          | 0/391 [00:00<?, ?it/s]"
      ]
     },
     "metadata": {},
     "output_type": "display_data"
    },
    {
     "data": {
      "application/vnd.jupyter.widget-view+json": {
       "model_id": "4c0dd9157bab44c699071308ddc49b17",
       "version_major": 2,
       "version_minor": 0
      },
      "text/plain": [
       "Epoch 34/50:   0%|          | 0/391 [00:00<?, ?it/s]"
      ]
     },
     "metadata": {},
     "output_type": "display_data"
    },
    {
     "data": {
      "application/vnd.jupyter.widget-view+json": {
       "model_id": "191f5dcc29474f159f2f801d29c27c3a",
       "version_major": 2,
       "version_minor": 0
      },
      "text/plain": [
       "Epoch 35/50:   0%|          | 0/391 [00:00<?, ?it/s]"
      ]
     },
     "metadata": {},
     "output_type": "display_data"
    },
    {
     "data": {
      "application/vnd.jupyter.widget-view+json": {
       "model_id": "9558b30af0634ba3a787d0e67fea1f17",
       "version_major": 2,
       "version_minor": 0
      },
      "text/plain": [
       "Epoch 36/50:   0%|          | 0/391 [00:00<?, ?it/s]"
      ]
     },
     "metadata": {},
     "output_type": "display_data"
    },
    {
     "data": {
      "application/vnd.jupyter.widget-view+json": {
       "model_id": "eb402df0085e49df9d9e2610440d7a0a",
       "version_major": 2,
       "version_minor": 0
      },
      "text/plain": [
       "Epoch 37/50:   0%|          | 0/391 [00:00<?, ?it/s]"
      ]
     },
     "metadata": {},
     "output_type": "display_data"
    },
    {
     "data": {
      "application/vnd.jupyter.widget-view+json": {
       "model_id": "856a800713b34c01bf42a2694fe972d2",
       "version_major": 2,
       "version_minor": 0
      },
      "text/plain": [
       "Epoch 38/50:   0%|          | 0/391 [00:00<?, ?it/s]"
      ]
     },
     "metadata": {},
     "output_type": "display_data"
    },
    {
     "data": {
      "application/vnd.jupyter.widget-view+json": {
       "model_id": "a99ae1c711244393a5ec79bae0babdbe",
       "version_major": 2,
       "version_minor": 0
      },
      "text/plain": [
       "Epoch 39/50:   0%|          | 0/391 [00:00<?, ?it/s]"
      ]
     },
     "metadata": {},
     "output_type": "display_data"
    },
    {
     "data": {
      "application/vnd.jupyter.widget-view+json": {
       "model_id": "7e4dfd1acdd445afa96f684663626e41",
       "version_major": 2,
       "version_minor": 0
      },
      "text/plain": [
       "Epoch 40/50:   0%|          | 0/391 [00:00<?, ?it/s]"
      ]
     },
     "metadata": {},
     "output_type": "display_data"
    },
    {
     "data": {
      "application/vnd.jupyter.widget-view+json": {
       "model_id": "a14e419e560249b0963a1b0ea4508ca7",
       "version_major": 2,
       "version_minor": 0
      },
      "text/plain": [
       "Epoch 41/50:   0%|          | 0/391 [00:00<?, ?it/s]"
      ]
     },
     "metadata": {},
     "output_type": "display_data"
    },
    {
     "data": {
      "application/vnd.jupyter.widget-view+json": {
       "model_id": "5780d6c633614120a67b349fffada6e8",
       "version_major": 2,
       "version_minor": 0
      },
      "text/plain": [
       "Epoch 42/50:   0%|          | 0/391 [00:00<?, ?it/s]"
      ]
     },
     "metadata": {},
     "output_type": "display_data"
    },
    {
     "data": {
      "application/vnd.jupyter.widget-view+json": {
       "model_id": "b32258801000428b87fae7e821de099c",
       "version_major": 2,
       "version_minor": 0
      },
      "text/plain": [
       "Epoch 43/50:   0%|          | 0/391 [00:00<?, ?it/s]"
      ]
     },
     "metadata": {},
     "output_type": "display_data"
    },
    {
     "data": {
      "application/vnd.jupyter.widget-view+json": {
       "model_id": "c31a172e167b4eebae4810e6d3bb1c71",
       "version_major": 2,
       "version_minor": 0
      },
      "text/plain": [
       "Epoch 44/50:   0%|          | 0/391 [00:00<?, ?it/s]"
      ]
     },
     "metadata": {},
     "output_type": "display_data"
    },
    {
     "data": {
      "application/vnd.jupyter.widget-view+json": {
       "model_id": "8fc1453793f242c6893bdd4f84a79bee",
       "version_major": 2,
       "version_minor": 0
      },
      "text/plain": [
       "Epoch 45/50:   0%|          | 0/391 [00:00<?, ?it/s]"
      ]
     },
     "metadata": {},
     "output_type": "display_data"
    },
    {
     "data": {
      "application/vnd.jupyter.widget-view+json": {
       "model_id": "dd63d8fbbf4047b481a9c27773dbf9e4",
       "version_major": 2,
       "version_minor": 0
      },
      "text/plain": [
       "Epoch 46/50:   0%|          | 0/391 [00:00<?, ?it/s]"
      ]
     },
     "metadata": {},
     "output_type": "display_data"
    },
    {
     "data": {
      "application/vnd.jupyter.widget-view+json": {
       "model_id": "4a0161633c5d487fad36908b589b333e",
       "version_major": 2,
       "version_minor": 0
      },
      "text/plain": [
       "Epoch 47/50:   0%|          | 0/391 [00:00<?, ?it/s]"
      ]
     },
     "metadata": {},
     "output_type": "display_data"
    },
    {
     "data": {
      "application/vnd.jupyter.widget-view+json": {
       "model_id": "98097e7690e84ec7814d7768412f77a2",
       "version_major": 2,
       "version_minor": 0
      },
      "text/plain": [
       "Epoch 48/50:   0%|          | 0/391 [00:00<?, ?it/s]"
      ]
     },
     "metadata": {},
     "output_type": "display_data"
    },
    {
     "data": {
      "application/vnd.jupyter.widget-view+json": {
       "model_id": "7754d1895d0342dea5f2c18092bc09b4",
       "version_major": 2,
       "version_minor": 0
      },
      "text/plain": [
       "Epoch 49/50:   0%|          | 0/391 [00:00<?, ?it/s]"
      ]
     },
     "metadata": {},
     "output_type": "display_data"
    },
    {
     "data": {
      "application/vnd.jupyter.widget-view+json": {
       "model_id": "46afd097c0a049c982374a1552fdee67",
       "version_major": 2,
       "version_minor": 0
      },
      "text/plain": [
       "Epoch 50/50:   0%|          | 0/391 [00:00<?, ?it/s]"
      ]
     },
     "metadata": {},
     "output_type": "display_data"
    },
    {
     "name": "stdout",
     "output_type": "stream",
     "text": [
      "CNN pre-training completed!\n",
      "Training RL agent...\n"
     ]
    },
    {
     "data": {
      "application/vnd.jupyter.widget-view+json": {
       "model_id": "9a5c68ac67f7447cb735babc6e34f4ce",
       "version_major": 2,
       "version_minor": 0
      },
      "text/plain": [
       "Training RL agent:   0%|          | 0/5000 [00:00<?, ?it/s]"
      ]
     },
     "metadata": {},
     "output_type": "display_data"
    },
    {
     "name": "stdout",
     "output_type": "stream",
     "text": [
      "RL agent training completed!\n",
      "Evaluating model...\n"
     ]
    },
    {
     "data": {
      "application/vnd.jupyter.widget-view+json": {
       "model_id": "5e520c9279c04335913a4d084b0f449f",
       "version_major": 2,
       "version_minor": 0
      },
      "text/plain": [
       "Evaluating:   0%|          | 0/79 [00:00<?, ?it/s]"
      ]
     },
     "metadata": {},
     "output_type": "display_data"
    },
    {
     "name": "stdout",
     "output_type": "stream",
     "text": [
      "\n",
      "Test Results:\n",
      "Overall Accuracy: 88.82%\n",
      "Exit Distribution: Exit1=5.3%, Exit2=34.3%, Exit3=31.7%, Exit4=28.6%\n",
      "Compute Saved: 38.8%\n",
      "Prediction Changes Between Exits: 4216\n",
      "\n",
      "Confidence Statistics:\n",
      "Exit 1: Mean=0.677, Std=0.215\n",
      "Exit 2: Mean=0.794, Std=0.208\n",
      "Exit 3: Mean=0.838, Std=0.185\n",
      "Exit 4: Mean=0.711, Std=0.178\n",
      "\n",
      "Per-class Accuracy:\n",
      "plane: 92.10%\n",
      "car: 96.00%\n",
      "bird: 83.20%\n",
      "cat: 82.10%\n",
      "deer: 87.90%\n",
      "dog: 79.30%\n",
      "frog: 94.30%\n",
      "horse: 88.10%\n",
      "ship: 93.70%\n",
      "truck: 91.50%\n",
      "\n",
      "Effectiveness Score: 34.46\n",
      "\n",
      "Performing detailed exit analysis...\n"
     ]
    },
    {
     "data": {
      "application/vnd.jupyter.widget-view+json": {
       "model_id": "c2b2274f829245f7ab7a7f5ed869beb7",
       "version_major": 2,
       "version_minor": 0
      },
      "text/plain": [
       "Analyzing exits:   0%|          | 0/79 [00:00<?, ?it/s]"
      ]
     },
     "metadata": {},
     "output_type": "display_data"
    },
    {
     "name": "stdout",
     "output_type": "stream",
     "text": [
      "\n",
      "Per-Class Accuracy at Each Exit Point:\n",
      "--------------------------------------------------\n",
      "\n",
      "PLANE:\n",
      "Exit 1: Accuracy = 68.40%, Avg Confidence = 0.722, Samples = 1000\n",
      "Exit 2: Accuracy = 86.80%, Avg Confidence = 0.820, Samples = 1000\n",
      "Exit 3: Accuracy = 92.90%, Avg Confidence = 0.912, Samples = 1000\n",
      "Exit 4: Accuracy = 92.20%, Avg Confidence = 0.920, Samples = 1000\n",
      "\n",
      "CAR:\n",
      "Exit 1: Accuracy = 78.30%, Avg Confidence = 0.765, Samples = 1000\n",
      "Exit 2: Accuracy = 92.30%, Avg Confidence = 0.901, Samples = 1000\n",
      "Exit 3: Accuracy = 95.70%, Avg Confidence = 0.960, Samples = 1000\n",
      "Exit 4: Accuracy = 96.10%, Avg Confidence = 0.969, Samples = 1000\n",
      "\n",
      "BIRD:\n",
      "Exit 1: Accuracy = 45.50%, Avg Confidence = 0.612, Samples = 1000\n",
      "Exit 2: Accuracy = 76.40%, Avg Confidence = 0.748, Samples = 1000\n",
      "Exit 3: Accuracy = 84.20%, Avg Confidence = 0.876, Samples = 1000\n",
      "Exit 4: Accuracy = 83.40%, Avg Confidence = 0.875, Samples = 1000\n",
      "\n",
      "CAT:\n",
      "Exit 1: Accuracy = 47.10%, Avg Confidence = 0.554, Samples = 1000\n",
      "Exit 2: Accuracy = 76.70%, Avg Confidence = 0.693, Samples = 1000\n",
      "Exit 3: Accuracy = 82.90%, Avg Confidence = 0.828, Samples = 1000\n",
      "Exit 4: Accuracy = 82.20%, Avg Confidence = 0.835, Samples = 1000\n",
      "\n",
      "DEER:\n",
      "Exit 1: Accuracy = 51.90%, Avg Confidence = 0.598, Samples = 1000\n",
      "Exit 2: Accuracy = 78.40%, Avg Confidence = 0.748, Samples = 1000\n",
      "Exit 3: Accuracy = 87.80%, Avg Confidence = 0.886, Samples = 1000\n",
      "Exit 4: Accuracy = 88.00%, Avg Confidence = 0.882, Samples = 1000\n",
      "\n",
      "DOG:\n",
      "Exit 1: Accuracy = 62.50%, Avg Confidence = 0.612, Samples = 1000\n",
      "Exit 2: Accuracy = 77.10%, Avg Confidence = 0.756, Samples = 1000\n",
      "Exit 3: Accuracy = 79.40%, Avg Confidence = 0.846, Samples = 1000\n",
      "Exit 4: Accuracy = 79.40%, Avg Confidence = 0.844, Samples = 1000\n",
      "\n",
      "FROG:\n",
      "Exit 1: Accuracy = 85.20%, Avg Confidence = 0.783, Samples = 1000\n",
      "Exit 2: Accuracy = 89.90%, Avg Confidence = 0.832, Samples = 1000\n",
      "Exit 3: Accuracy = 92.90%, Avg Confidence = 0.920, Samples = 1000\n",
      "Exit 4: Accuracy = 94.30%, Avg Confidence = 0.926, Samples = 1000\n",
      "\n",
      "HORSE:\n",
      "Exit 1: Accuracy = 53.10%, Avg Confidence = 0.621, Samples = 1000\n",
      "Exit 2: Accuracy = 80.90%, Avg Confidence = 0.761, Samples = 1000\n",
      "Exit 3: Accuracy = 87.80%, Avg Confidence = 0.880, Samples = 1000\n",
      "Exit 4: Accuracy = 88.10%, Avg Confidence = 0.890, Samples = 1000\n",
      "\n",
      "SHIP:\n",
      "Exit 1: Accuracy = 79.30%, Avg Confidence = 0.766, Samples = 1000\n",
      "Exit 2: Accuracy = 91.80%, Avg Confidence = 0.902, Samples = 1000\n",
      "Exit 3: Accuracy = 93.40%, Avg Confidence = 0.947, Samples = 1000\n",
      "Exit 4: Accuracy = 93.70%, Avg Confidence = 0.955, Samples = 1000\n",
      "\n",
      "TRUCK:\n",
      "Exit 1: Accuracy = 75.00%, Avg Confidence = 0.739, Samples = 1000\n",
      "Exit 2: Accuracy = 89.10%, Avg Confidence = 0.879, Samples = 1000\n",
      "Exit 3: Accuracy = 91.40%, Avg Confidence = 0.934, Samples = 1000\n",
      "Exit 4: Accuracy = 91.70%, Avg Confidence = 0.943, Samples = 1000\n"
     ]
    },
    {
     "data": {
      "image/png": "[encoded data removed]",
      "text/plain": [
       "<Figure size 1500x800 with 1 Axes>"
      ]
     },
     "metadata": {},
     "output_type": "display_data"
    },
    {
     "data": {
      "image/png": "[encoded data removed]",
      "text/plain": [
       "<Figure size 1200x800 with 2 Axes>"
      ]
     },
     "metadata": {},
     "output_type": "display_data"
    },
    {
     "data": {
      "image/png": "[encoded data removed]",
      "text/plain": [
       "<Figure size 2000x600 with 3 Axes>"
      ]
     },
     "metadata": {},
     "output_type": "display_data"
    },
    {
     "data": {
      "image/png": "[encoded data removed]",
      "text/plain": [
       "<Figure size 2000x800 with 10 Axes>"
      ]
     },
     "metadata": {},
     "output_type": "display_data"
    },
    {
     "data": {
      "image/png": "[encoded data removed]",
      "text/plain": [
       "<Figure size 1200x800 with 2 Axes>"
      ]
     },
     "metadata": {},
     "output_type": "display_data"
    },
    {
     "data": {
      "image/png": "[encoded data removed]",
      "text/plain": [
       "<Figure size 1200x600 with 1 Axes>"
      ]
     },
     "metadata": {},
     "output_type": "display_data"
    }
   ],
   "source": [
    "# Execute training pipeline\n",
    "trained_cnn, trained_agent, evaluation_metrics, exit_metrics = run_training_pipeline()"
   ]
  }
 ],
 "metadata": {
  "colab": {
   "provenance": []
  },
  "kernelspec": {
   "display_name": "Python 3",
   "language": "python",
   "name": "python3"
  },
  "language_info": {
   "codemirror_mode": {
    "name": "ipython",
    "version": 3
   },
   "file_extension": ".py",
   "mimetype": "text/x-python",
   "name": "python",
   "nbconvert_exporter": "python",
   "pygments_lexer": "ipython3",
   "version": "3.10.10"
  },
  "widgets": {
   "application/vnd.jupyter.widget-state+json": {
    "06c044d8724b4be995496a2324c194e2": {
     "model_module": "@jupyter-widgets/controls",
     "model_module_version": "1.5.0",
     "model_name": "HBoxModel",
     "state": {
      "_dom_classes": [],
      "_model_module": "@jupyter-widgets/controls",
      "_model_module_version": "1.5.0",
      "_model_name": "HBoxModel",
      "_view_count": null,
      "_view_module": "@jupyter-widgets/controls",
      "_view_module_version": "1.5.0",
      "_view_name": "HBoxView",
      "box_style": "",
      "children": [
       "IPY_MODEL_777696cfd6a148deac4172b4eb5af07c",
       "IPY_MODEL_2da287b3d56a483696cd32ad2b226332",
       "IPY_MODEL_a71e01756e4b46eabf4feb3b66d173ab"
      ],
      "layout": "IPY_MODEL_f0ac3d3562774764bc757f6c333c2165"
     }
    },
    "0b7d793051b949f4ad4805970e4ae993": {
     "model_module": "@jupyter-widgets/base",
     "model_module_version": "1.2.0",
     "model_name": "LayoutModel",
     "state": {
      "_model_module": "@jupyter-widgets/base",
      "_model_module_version": "1.2.0",
      "_model_name": "LayoutModel",
      "_view_count": null,
      "_view_module": "@jupyter-widgets/base",
      "_view_module_version": "1.2.0",
      "_view_name": "LayoutView",
      "align_content": null,
      "align_items": null,
      "align_self": null,
      "border": null,
      "bottom": null,
      "display": null,
      "flex": null,
      "flex_flow": null,
      "grid_area": null,
      "grid_auto_columns": null,
      "grid_auto_flow": null,
      "grid_auto_rows": null,
      "grid_column": null,
      "grid_gap": null,
      "grid_row": null,
      "grid_template_areas": null,
      "grid_template_columns": null,
      "grid_template_rows": null,
      "height": null,
      "justify_content": null,
      "justify_items": null,
      "left": null,
      "margin": null,
      "max_height": null,
      "max_width": null,
      "min_height": null,
      "min_width": null,
      "object_fit": null,
      "object_position": null,
      "order": null,
      "overflow": null,
      "overflow_x": null,
      "overflow_y": null,
      "padding": null,
      "right": null,
      "top": null,
      "visibility": null,
      "width": null
     }
    },
    "0dea5853cf3e447288237979edc7d283": {
     "model_module": "@jupyter-widgets/controls",
     "model_module_version": "1.5.0",
     "model_name": "DescriptionStyleModel",
     "state": {
      "_model_module": "@jupyter-widgets/controls",
      "_model_module_version": "1.5.0",
      "_model_name": "DescriptionStyleModel",
      "_view_count": null,
      "_view_module": "@jupyter-widgets/base",
      "_view_module_version": "1.2.0",
      "_view_name": "StyleView",
      "description_width": ""
     }
    },
    "166f4dbdafe2401d9b0f1f219c5ce1d5": {
     "model_module": "@jupyter-widgets/controls",
     "model_module_version": "1.5.0",
     "model_name": "FloatProgressModel",
     "state": {
      "_dom_classes": [],
      "_model_module": "@jupyter-widgets/controls",
      "_model_module_version": "1.5.0",
      "_model_name": "FloatProgressModel",
      "_view_count": null,
      "_view_module": "@jupyter-widgets/controls",
      "_view_module_version": "1.5.0",
      "_view_name": "ProgressView",
      "bar_style": "success",
      "description": "",
      "description_tooltip": null,
      "layout": "IPY_MODEL_afe30309450e4852a1009ae5e01503d0",
      "max": 391,
      "min": 0,
      "orientation": "horizontal",
      "style": "IPY_MODEL_d569c85adf4748788a946f67cf5c5e02",
      "value": 391
     }
    },
    "18a494ec322a4354984b7b4321f7fb7b": {
     "model_module": "@jupyter-widgets/base",
     "model_module_version": "1.2.0",
     "model_name": "LayoutModel",
     "state": {
      "_model_module": "@jupyter-widgets/base",
      "_model_module_version": "1.2.0",
      "_model_name": "LayoutModel",
      "_view_count": null,
      "_view_module": "@jupyter-widgets/base",
      "_view_module_version": "1.2.0",
      "_view_name": "LayoutView",
      "align_content": null,
      "align_items": null,
      "align_self": null,
      "border": null,
      "bottom": null,
      "display": null,
      "flex": null,
      "flex_flow": null,
      "grid_area": null,
      "grid_auto_columns": null,
      "grid_auto_flow": null,
      "grid_auto_rows": null,
      "grid_column": null,
      "grid_gap": null,
      "grid_row": null,
      "grid_template_areas": null,
      "grid_template_columns": null,
      "grid_template_rows": null,
      "height": null,
      "justify_content": null,
      "justify_items": null,
      "left": null,
      "margin": null,
      "max_height": null,
      "max_width": null,
      "min_height": null,
      "min_width": null,
      "object_fit": null,
      "object_position": null,
      "order": null,
      "overflow": null,
      "overflow_x": null,
      "overflow_y": null,
      "padding": null,
      "right": null,
      "top": null,
      "visibility": null,
      "width": null
     }
    },
    "1e37c80c7d304571885cadeea772c6be": {
     "model_module": "@jupyter-widgets/controls",
     "model_module_version": "1.5.0",
     "model_name": "DescriptionStyleModel",
     "state": {
      "_model_module": "@jupyter-widgets/controls",
      "_model_module_version": "1.5.0",
      "_model_name": "DescriptionStyleModel",
      "_view_count": null,
      "_view_module": "@jupyter-widgets/base",
      "_view_module_version": "1.2.0",
      "_view_name": "StyleView",
      "description_width": ""
     }
    },
    "2ae1a2dd967143ac86c17d33e2c8758c": {
     "model_module": "@jupyter-widgets/base",
     "model_module_version": "1.2.0",
     "model_name": "LayoutModel",
     "state": {
      "_model_module": "@jupyter-widgets/base",
      "_model_module_version": "1.2.0",
      "_model_name": "LayoutModel",
      "_view_count": null,
      "_view_module": "@jupyter-widgets/base",
      "_view_module_version": "1.2.0",
      "_view_name": "LayoutView",
      "align_content": null,
      "align_items": null,
      "align_self": null,
      "border": null,
      "bottom": null,
      "display": null,
      "flex": null,
      "flex_flow": null,
      "grid_area": null,
      "grid_auto_columns": null,
      "grid_auto_flow": null,
      "grid_auto_rows": null,
      "grid_column": null,
      "grid_gap": null,
      "grid_row": null,
      "grid_template_areas": null,
      "grid_template_columns": null,
      "grid_template_rows": null,
      "height": null,
      "justify_content": null,
      "justify_items": null,
      "left": null,
      "margin": null,
      "max_height": null,
      "max_width": null,
      "min_height": null,
      "min_width": null,
      "object_fit": null,
      "object_position": null,
      "order": null,
      "overflow": null,
      "overflow_x": null,
      "overflow_y": null,
      "padding": null,
      "right": null,
      "top": null,
      "visibility": null,
      "width": null
     }
    },
    "2da287b3d56a483696cd32ad2b226332": {
     "model_module": "@jupyter-widgets/controls",
     "model_module_version": "1.5.0",
     "model_name": "FloatProgressModel",
     "state": {
      "_dom_classes": [],
      "_model_module": "@jupyter-widgets/controls",
      "_model_module_version": "1.5.0",
      "_model_name": "FloatProgressModel",
      "_view_count": null,
      "_view_module": "@jupyter-widgets/controls",
      "_view_module_version": "1.5.0",
      "_view_name": "ProgressView",
      "bar_style": "success",
      "description": "",
      "description_tooltip": null,
      "layout": "IPY_MODEL_0b7d793051b949f4ad4805970e4ae993",
      "max": 391,
      "min": 0,
      "orientation": "horizontal",
      "style": "IPY_MODEL_9a3ef1a7fb4a402abd597ac99ec72459",
      "value": 391
     }
    },
    "3181d44dea7640bf9b424b82a91a2743": {
     "model_module": "@jupyter-widgets/controls",
     "model_module_version": "1.5.0",
     "model_name": "HTMLModel",
     "state": {
      "_dom_classes": [],
      "_model_module": "@jupyter-widgets/controls",
      "_model_module_version": "1.5.0",
      "_model_name": "HTMLModel",
      "_view_count": null,
      "_view_module": "@jupyter-widgets/controls",
      "_view_module_version": "1.5.0",
      "_view_name": "HTMLView",
      "description": "",
      "description_tooltip": null,
      "layout": "IPY_MODEL_7834c17ef32240b6a2496185518eebff",
      "placeholder": "​",
      "style": "IPY_MODEL_84c3edfbd8494a929d05b3d755b937b9",
      "value": "Epoch 1/20: 100%"
     }
    },
    "3af1fda2480d418dafb77619b775f078": {
     "model_module": "@jupyter-widgets/controls",
     "model_module_version": "1.5.0",
     "model_name": "HTMLModel",
     "state": {
      "_dom_classes": [],
      "_model_module": "@jupyter-widgets/controls",
      "_model_module_version": "1.5.0",
      "_model_name": "HTMLModel",
      "_view_count": null,
      "_view_module": "@jupyter-widgets/controls",
      "_view_module_version": "1.5.0",
      "_view_name": "HTMLView",
      "description": "",
      "description_tooltip": null,
      "layout": "IPY_MODEL_d68857f945134359a402de9d05f062af",
      "placeholder": "​",
      "style": "IPY_MODEL_87f0faf825c04777b9b3e5eb6e3b5a05",
      "value": "Epoch 4/20:   3%"
     }
    },
    "3b390710892742b89e48b5fee4c7d97e": {
     "model_module": "@jupyter-widgets/controls",
     "model_module_version": "1.5.0",
     "model_name": "HBoxModel",
     "state": {
      "_dom_classes": [],
      "_model_module": "@jupyter-widgets/controls",
      "_model_module_version": "1.5.0",
      "_model_name": "HBoxModel",
      "_view_count": null,
      "_view_module": "@jupyter-widgets/controls",
      "_view_module_version": "1.5.0",
      "_view_name": "HBoxView",
      "box_style": "",
      "children": [
       "IPY_MODEL_59d3636e10bc4c5e9916576350c5811a",
       "IPY_MODEL_8819a4936ba84084ac4c5beea40eaa59",
       "IPY_MODEL_56bc826413e74d38aaf29c41a9032824"
      ],
      "layout": "IPY_MODEL_b7c60cdbc14c4eaa9deeae5c958c894d"
     }
    },
    "56bc826413e74d38aaf29c41a9032824": {
     "model_module": "@jupyter-widgets/controls",
     "model_module_version": "1.5.0",
     "model_name": "HTMLModel",
     "state": {
      "_dom_classes": [],
      "_model_module": "@jupyter-widgets/controls",
      "_model_module_version": "1.5.0",
      "_model_name": "HTMLModel",
      "_view_count": null,
      "_view_module": "@jupyter-widgets/controls",
      "_view_module_version": "1.5.0",
      "_view_name": "HTMLView",
      "description": "",
      "description_tooltip": null,
      "layout": "IPY_MODEL_18a494ec322a4354984b7b4321f7fb7b",
      "placeholder": "​",
      "style": "IPY_MODEL_1e37c80c7d304571885cadeea772c6be",
      "value": " 391/391 [23:14&lt;00:00,  3.11s/it, loss=1.3461, acc1=50.8%, acc2=48.2%, acc3=52.7%, acc4=53.2%]"
     }
    },
    "59d3636e10bc4c5e9916576350c5811a": {
     "model_module": "@jupyter-widgets/controls",
     "model_module_version": "1.5.0",
     "model_name": "HTMLModel",
     "state": {
      "_dom_classes": [],
      "_model_module": "@jupyter-widgets/controls",
      "_model_module_version": "1.5.0",
      "_model_name": "HTMLModel",
      "_view_count": null,
      "_view_module": "@jupyter-widgets/controls",
      "_view_module_version": "1.5.0",
      "_view_name": "HTMLView",
      "description": "",
      "description_tooltip": null,
      "layout": "IPY_MODEL_2ae1a2dd967143ac86c17d33e2c8758c",
      "placeholder": "​",
      "style": "IPY_MODEL_dc8649a92e4642b3a71c9b3ce5663279",
      "value": "Epoch 2/20: 100%"
     }
    },
    "5b0b3fafd99648d9be8ebe2de2954501": {
     "model_module": "@jupyter-widgets/controls",
     "model_module_version": "1.5.0",
     "model_name": "FloatProgressModel",
     "state": {
      "_dom_classes": [],
      "_model_module": "@jupyter-widgets/controls",
      "_model_module_version": "1.5.0",
      "_model_name": "FloatProgressModel",
      "_view_count": null,
      "_view_module": "@jupyter-widgets/controls",
      "_view_module_version": "1.5.0",
      "_view_name": "ProgressView",
      "bar_style": "",
      "description": "",
      "description_tooltip": null,
      "layout": "IPY_MODEL_c60e351f2f0448b28ca3a9d26d598cfd",
      "max": 391,
      "min": 0,
      "orientation": "horizontal",
      "style": "IPY_MODEL_c8d514efb9704b3eb447fb5285a71f01",
      "value": 10
     }
    },
    "6d19dfdafb0a47fc8f72be3e8e60fe60": {
     "model_module": "@jupyter-widgets/controls",
     "model_module_version": "1.5.0",
     "model_name": "HBoxModel",
     "state": {
      "_dom_classes": [],
      "_model_module": "@jupyter-widgets/controls",
      "_model_module_version": "1.5.0",
      "_model_name": "HBoxModel",
      "_view_count": null,
      "_view_module": "@jupyter-widgets/controls",
      "_view_module_version": "1.5.0",
      "_view_name": "HBoxView",
      "box_style": "",
      "children": [
       "IPY_MODEL_3181d44dea7640bf9b424b82a91a2743",
       "IPY_MODEL_166f4dbdafe2401d9b0f1f219c5ce1d5",
       "IPY_MODEL_d8cf7ad769dd4dab9f8d66e28be3787c"
      ],
      "layout": "IPY_MODEL_749bc26e908d4706b99fb4d69a62c613"
     }
    },
    "749bc26e908d4706b99fb4d69a62c613": {
     "model_module": "@jupyter-widgets/base",
     "model_module_version": "1.2.0",
     "model_name": "LayoutModel",
     "state": {
      "_model_module": "@jupyter-widgets/base",
      "_model_module_version": "1.2.0",
      "_model_name": "LayoutModel",
      "_view_count": null,
      "_view_module": "@jupyter-widgets/base",
      "_view_module_version": "1.2.0",
      "_view_name": "LayoutView",
      "align_content": null,
      "align_items": null,
      "align_self": null,
      "border": null,
      "bottom": null,
      "display": null,
      "flex": null,
      "flex_flow": null,
      "grid_area": null,
      "grid_auto_columns": null,
      "grid_auto_flow": null,
      "grid_auto_rows": null,
      "grid_column": null,
      "grid_gap": null,
      "grid_row": null,
      "grid_template_areas": null,
      "grid_template_columns": null,
      "grid_template_rows": null,
      "height": null,
      "justify_content": null,
      "justify_items": null,
      "left": null,
      "margin": null,
      "max_height": null,
      "max_width": null,
      "min_height": null,
      "min_width": null,
      "object_fit": null,
      "object_position": null,
      "order": null,
      "overflow": null,
      "overflow_x": null,
      "overflow_y": null,
      "padding": null,
      "right": null,
      "top": null,
      "visibility": null,
      "width": null
     }
    },
    "777696cfd6a148deac4172b4eb5af07c": {
     "model_module": "@jupyter-widgets/controls",
     "model_module_version": "1.5.0",
     "model_name": "HTMLModel",
     "state": {
      "_dom_classes": [],
      "_model_module": "@jupyter-widgets/controls",
      "_model_module_version": "1.5.0",
      "_model_name": "HTMLModel",
      "_view_count": null,
      "_view_module": "@jupyter-widgets/controls",
      "_view_module_version": "1.5.0",
      "_view_name": "HTMLView",
      "description": "",
      "description_tooltip": null,
      "layout": "IPY_MODEL_f112639a84434e5784bfd9d6f50d352b",
      "placeholder": "​",
      "style": "IPY_MODEL_e37837f1dae04e4c80e7157cb200e27c",
      "value": "Epoch 3/20: 100%"
     }
    },
    "7834c17ef32240b6a2496185518eebff": {
     "model_module": "@jupyter-widgets/base",
     "model_module_version": "1.2.0",
     "model_name": "LayoutModel",
     "state": {
      "_model_module": "@jupyter-widgets/base",
      "_model_module_version": "1.2.0",
      "_model_name": "LayoutModel",
      "_view_count": null,
      "_view_module": "@jupyter-widgets/base",
      "_view_module_version": "1.2.0",
      "_view_name": "LayoutView",
      "align_content": null,
      "align_items": null,
      "align_self": null,
      "border": null,
      "bottom": null,
      "display": null,
      "flex": null,
      "flex_flow": null,
      "grid_area": null,
      "grid_auto_columns": null,
      "grid_auto_flow": null,
      "grid_auto_rows": null,
      "grid_column": null,
      "grid_gap": null,
      "grid_row": null,
      "grid_template_areas": null,
      "grid_template_columns": null,
      "grid_template_rows": null,
      "height": null,
      "justify_content": null,
      "justify_items": null,
      "left": null,
      "margin": null,
      "max_height": null,
      "max_width": null,
      "min_height": null,
      "min_width": null,
      "object_fit": null,
      "object_position": null,
      "order": null,
      "overflow": null,
      "overflow_x": null,
      "overflow_y": null,
      "padding": null,
      "right": null,
      "top": null,
      "visibility": null,
      "width": null
     }
    },
    "84c3edfbd8494a929d05b3d755b937b9": {
     "model_module": "@jupyter-widgets/controls",
     "model_module_version": "1.5.0",
     "model_name": "DescriptionStyleModel",
     "state": {
      "_model_module": "@jupyter-widgets/controls",
      "_model_module_version": "1.5.0",
      "_model_name": "DescriptionStyleModel",
      "_view_count": null,
      "_view_module": "@jupyter-widgets/base",
      "_view_module_version": "1.2.0",
      "_view_name": "StyleView",
      "description_width": ""
     }
    },
    "87f0faf825c04777b9b3e5eb6e3b5a05": {
     "model_module": "@jupyter-widgets/controls",
     "model_module_version": "1.5.0",
     "model_name": "DescriptionStyleModel",
     "state": {
      "_model_module": "@jupyter-widgets/controls",
      "_model_module_version": "1.5.0",
      "_model_name": "DescriptionStyleModel",
      "_view_count": null,
      "_view_module": "@jupyter-widgets/base",
      "_view_module_version": "1.2.0",
      "_view_name": "StyleView",
      "description_width": ""
     }
    },
    "8819a4936ba84084ac4c5beea40eaa59": {
     "model_module": "@jupyter-widgets/controls",
     "model_module_version": "1.5.0",
     "model_name": "FloatProgressModel",
     "state": {
      "_dom_classes": [],
      "_model_module": "@jupyter-widgets/controls",
      "_model_module_version": "1.5.0",
      "_model_name": "FloatProgressModel",
      "_view_count": null,
      "_view_module": "@jupyter-widgets/controls",
      "_view_module_version": "1.5.0",
      "_view_name": "ProgressView",
      "bar_style": "success",
      "description": "",
      "description_tooltip": null,
      "layout": "IPY_MODEL_cfb4786062694445832700bdf0b5a033",
      "max": 391,
      "min": 0,
      "orientation": "horizontal",
      "style": "IPY_MODEL_a00ea44f297446de9b2adf3b55c4da1b",
      "value": 391
     }
    },
    "9a3ef1a7fb4a402abd597ac99ec72459": {
     "model_module": "@jupyter-widgets/controls",
     "model_module_version": "1.5.0",
     "model_name": "ProgressStyleModel",
     "state": {
      "_model_module": "@jupyter-widgets/controls",
      "_model_module_version": "1.5.0",
      "_model_name": "ProgressStyleModel",
      "_view_count": null,
      "_view_module": "@jupyter-widgets/base",
      "_view_module_version": "1.2.0",
      "_view_name": "StyleView",
      "bar_color": null,
      "description_width": ""
     }
    },
    "a00ea44f297446de9b2adf3b55c4da1b": {
     "model_module": "@jupyter-widgets/controls",
     "model_module_version": "1.5.0",
     "model_name": "ProgressStyleModel",
     "state": {
      "_model_module": "@jupyter-widgets/controls",
      "_model_module_version": "1.5.0",
      "_model_name": "ProgressStyleModel",
      "_view_count": null,
      "_view_module": "@jupyter-widgets/base",
      "_view_module_version": "1.2.0",
      "_view_name": "StyleView",
      "bar_color": null,
      "description_width": ""
     }
    },
    "a71e01756e4b46eabf4feb3b66d173ab": {
     "model_module": "@jupyter-widgets/controls",
     "model_module_version": "1.5.0",
     "model_name": "HTMLModel",
     "state": {
      "_dom_classes": [],
      "_model_module": "@jupyter-widgets/controls",
      "_model_module_version": "1.5.0",
      "_model_name": "HTMLModel",
      "_view_count": null,
      "_view_module": "@jupyter-widgets/controls",
      "_view_module_version": "1.5.0",
      "_view_name": "HTMLView",
      "description": "",
      "description_tooltip": null,
      "layout": "IPY_MODEL_f861f44f1a094380bb88511ba89647ed",
      "placeholder": "​",
      "style": "IPY_MODEL_ecf83bf3bc01478e96656c317704b184",
      "value": " 391/391 [23:12&lt;00:00,  3.17s/it, loss=1.2167, acc1=55.3%, acc2=53.3%, acc3=58.5%, acc4=59.2%]"
     }
    },
    "ab9cbcb966e744a6969642d1ce3e94b6": {
     "model_module": "@jupyter-widgets/controls",
     "model_module_version": "1.5.0",
     "model_name": "HTMLModel",
     "state": {
      "_dom_classes": [],
      "_model_module": "@jupyter-widgets/controls",
      "_model_module_version": "1.5.0",
      "_model_name": "HTMLModel",
      "_view_count": null,
      "_view_module": "@jupyter-widgets/controls",
      "_view_module_version": "1.5.0",
      "_view_name": "HTMLView",
      "description": "",
      "description_tooltip": null,
      "layout": "IPY_MODEL_cf7cbb85737d45d3bd7bf6dbbc0dde84",
      "placeholder": "​",
      "style": "IPY_MODEL_ef9c6802992c465fbb0bf6b3ff206e87",
      "value": " 10/391 [00:36&lt;22:32,  3.55s/it, loss=1.1762, acc1=56.3%, acc2=53.4%, acc3=61.1%, acc4=63.3%]"
     }
    },
    "ac43dd7b83ef484a87abcba59321ac20": {
     "model_module": "@jupyter-widgets/controls",
     "model_module_version": "1.5.0",
     "model_name": "HBoxModel",
     "state": {
      "_dom_classes": [],
      "_model_module": "@jupyter-widgets/controls",
      "_model_module_version": "1.5.0",
      "_model_name": "HBoxModel",
      "_view_count": null,
      "_view_module": "@jupyter-widgets/controls",
      "_view_module_version": "1.5.0",
      "_view_name": "HBoxView",
      "box_style": "",
      "children": [
       "IPY_MODEL_3af1fda2480d418dafb77619b775f078",
       "IPY_MODEL_5b0b3fafd99648d9be8ebe2de2954501",
       "IPY_MODEL_ab9cbcb966e744a6969642d1ce3e94b6"
      ],
      "layout": "IPY_MODEL_ec981c869529475fa31885d0d6d29632"
     }
    },
    "afe30309450e4852a1009ae5e01503d0": {
     "model_module": "@jupyter-widgets/base",
     "model_module_version": "1.2.0",
     "model_name": "LayoutModel",
     "state": {
      "_model_module": "@jupyter-widgets/base",
      "_model_module_version": "1.2.0",
      "_model_name": "LayoutModel",
      "_view_count": null,
      "_view_module": "@jupyter-widgets/base",
      "_view_module_version": "1.2.0",
      "_view_name": "LayoutView",
      "align_content": null,
      "align_items": null,
      "align_self": null,
      "border": null,
      "bottom": null,
      "display": null,
      "flex": null,
      "flex_flow": null,
      "grid_area": null,
      "grid_auto_columns": null,
      "grid_auto_flow": null,
      "grid_auto_rows": null,
      "grid_column": null,
      "grid_gap": null,
      "grid_row": null,
      "grid_template_areas": null,
      "grid_template_columns": null,
      "grid_template_rows": null,
      "height": null,
      "justify_content": null,
      "justify_items": null,
      "left": null,
      "margin": null,
      "max_height": null,
      "max_width": null,
      "min_height": null,
      "min_width": null,
      "object_fit": null,
      "object_position": null,
      "order": null,
      "overflow": null,
      "overflow_x": null,
      "overflow_y": null,
      "padding": null,
      "right": null,
      "top": null,
      "visibility": null,
      "width": null
     }
    },
    "b637ce37652d4ff7b638269a570b5756": {
     "model_module": "@jupyter-widgets/base",
     "model_module_version": "1.2.0",
     "model_name": "LayoutModel",
     "state": {
      "_model_module": "@jupyter-widgets/base",
      "_model_module_version": "1.2.0",
      "_model_name": "LayoutModel",
      "_view_count": null,
      "_view_module": "@jupyter-widgets/base",
      "_view_module_version": "1.2.0",
      "_view_name": "LayoutView",
      "align_content": null,
      "align_items": null,
      "align_self": null,
      "border": null,
      "bottom": null,
      "display": null,
      "flex": null,
      "flex_flow": null,
      "grid_area": null,
      "grid_auto_columns": null,
      "grid_auto_flow": null,
      "grid_auto_rows": null,
      "grid_column": null,
      "grid_gap": null,
      "grid_row": null,
      "grid_template_areas": null,
      "grid_template_columns": null,
      "grid_template_rows": null,
      "height": null,
      "justify_content": null,
      "justify_items": null,
      "left": null,
      "margin": null,
      "max_height": null,
      "max_width": null,
      "min_height": null,
      "min_width": null,
      "object_fit": null,
      "object_position": null,
      "order": null,
      "overflow": null,
      "overflow_x": null,
      "overflow_y": null,
      "padding": null,
      "right": null,
      "top": null,
      "visibility": null,
      "width": null
     }
    },
    "b7c60cdbc14c4eaa9deeae5c958c894d": {
     "model_module": "@jupyter-widgets/base",
     "model_module_version": "1.2.0",
     "model_name": "LayoutModel",
     "state": {
      "_model_module": "@jupyter-widgets/base",
      "_model_module_version": "1.2.0",
      "_model_name": "LayoutModel",
      "_view_count": null,
      "_view_module": "@jupyter-widgets/base",
      "_view_module_version": "1.2.0",
      "_view_name": "LayoutView",
      "align_content": null,
      "align_items": null,
      "align_self": null,
      "border": null,
      "bottom": null,
      "display": null,
      "flex": null,
      "flex_flow": null,
      "grid_area": null,
      "grid_auto_columns": null,
      "grid_auto_flow": null,
      "grid_auto_rows": null,
      "grid_column": null,
      "grid_gap": null,
      "grid_row": null,
      "grid_template_areas": null,
      "grid_template_columns": null,
      "grid_template_rows": null,
      "height": null,
      "justify_content": null,
      "justify_items": null,
      "left": null,
      "margin": null,
      "max_height": null,
      "max_width": null,
      "min_height": null,
      "min_width": null,
      "object_fit": null,
      "object_position": null,
      "order": null,
      "overflow": null,
      "overflow_x": null,
      "overflow_y": null,
      "padding": null,
      "right": null,
      "top": null,
      "visibility": null,
      "width": null
     }
    },
    "c60e351f2f0448b28ca3a9d26d598cfd": {
     "model_module": "@jupyter-widgets/base",
     "model_module_version": "1.2.0",
     "model_name": "LayoutModel",
     "state": {
      "_model_module": "@jupyter-widgets/base",
      "_model_module_version": "1.2.0",
      "_model_name": "LayoutModel",
      "_view_count": null,
      "_view_module": "@jupyter-widgets/base",
      "_view_module_version": "1.2.0",
      "_view_name": "LayoutView",
      "align_content": null,
      "align_items": null,
      "align_self": null,
      "border": null,
      "bottom": null,
      "display": null,
      "flex": null,
      "flex_flow": null,
      "grid_area": null,
      "grid_auto_columns": null,
      "grid_auto_flow": null,
      "grid_auto_rows": null,
      "grid_column": null,
      "grid_gap": null,
      "grid_row": null,
      "grid_template_areas": null,
      "grid_template_columns": null,
      "grid_template_rows": null,
      "height": null,
      "justify_content": null,
      "justify_items": null,
      "left": null,
      "margin": null,
      "max_height": null,
      "max_width": null,
      "min_height": null,
      "min_width": null,
      "object_fit": null,
      "object_position": null,
      "order": null,
      "overflow": null,
      "overflow_x": null,
      "overflow_y": null,
      "padding": null,
      "right": null,
      "top": null,
      "visibility": null,
      "width": null
     }
    },
    "c8d514efb9704b3eb447fb5285a71f01": {
     "model_module": "@jupyter-widgets/controls",
     "model_module_version": "1.5.0",
     "model_name": "ProgressStyleModel",
     "state": {
      "_model_module": "@jupyter-widgets/controls",
      "_model_module_version": "1.5.0",
      "_model_name": "ProgressStyleModel",
      "_view_count": null,
      "_view_module": "@jupyter-widgets/base",
      "_view_module_version": "1.2.0",
      "_view_name": "StyleView",
      "bar_color": null,
      "description_width": ""
     }
    },
    "cf7cbb85737d45d3bd7bf6dbbc0dde84": {
     "model_module": "@jupyter-widgets/base",
     "model_module_version": "1.2.0",
     "model_name": "LayoutModel",
     "state": {
      "_model_module": "@jupyter-widgets/base",
      "_model_module_version": "1.2.0",
      "_model_name": "LayoutModel",
      "_view_count": null,
      "_view_module": "@jupyter-widgets/base",
      "_view_module_version": "1.2.0",
      "_view_name": "LayoutView",
      "align_content": null,
      "align_items": null,
      "align_self": null,
      "border": null,
      "bottom": null,
      "display": null,
      "flex": null,
      "flex_flow": null,
      "grid_area": null,
      "grid_auto_columns": null,
      "grid_auto_flow": null,
      "grid_auto_rows": null,
      "grid_column": null,
      "grid_gap": null,
      "grid_row": null,
      "grid_template_areas": null,
      "grid_template_columns": null,
      "grid_template_rows": null,
      "height": null,
      "justify_content": null,
      "justify_items": null,
      "left": null,
      "margin": null,
      "max_height": null,
      "max_width": null,
      "min_height": null,
      "min_width": null,
      "object_fit": null,
      "object_position": null,
      "order": null,
      "overflow": null,
      "overflow_x": null,
      "overflow_y": null,
      "padding": null,
      "right": null,
      "top": null,
      "visibility": null,
      "width": null
     }
    },
    "cfb4786062694445832700bdf0b5a033": {
     "model_module": "@jupyter-widgets/base",
     "model_module_version": "1.2.0",
     "model_name": "LayoutModel",
     "state": {
      "_model_module": "@jupyter-widgets/base",
      "_model_module_version": "1.2.0",
      "_model_name": "LayoutModel",
      "_view_count": null,
      "_view_module": "@jupyter-widgets/base",
      "_view_module_version": "1.2.0",
      "_view_name": "LayoutView",
      "align_content": null,
      "align_items": null,
      "align_self": null,
      "border": null,
      "bottom": null,
      "display": null,
      "flex": null,
      "flex_flow": null,
      "grid_area": null,
      "grid_auto_columns": null,
      "grid_auto_flow": null,
      "grid_auto_rows": null,
      "grid_column": null,
      "grid_gap": null,
      "grid_row": null,
      "grid_template_areas": null,
      "grid_template_columns": null,
      "grid_template_rows": null,
      "height": null,
      "justify_content": null,
      "justify_items": null,
      "left": null,
      "margin": null,
      "max_height": null,
      "max_width": null,
      "min_height": null,
      "min_width": null,
      "object_fit": null,
      "object_position": null,
      "order": null,
      "overflow": null,
      "overflow_x": null,
      "overflow_y": null,
      "padding": null,
      "right": null,
      "top": null,
      "visibility": null,
      "width": null
     }
    },
    "d569c85adf4748788a946f67cf5c5e02": {
     "model_module": "@jupyter-widgets/controls",
     "model_module_version": "1.5.0",
     "model_name": "ProgressStyleModel",
     "state": {
      "_model_module": "@jupyter-widgets/controls",
      "_model_module_version": "1.5.0",
      "_model_name": "ProgressStyleModel",
      "_view_count": null,
      "_view_module": "@jupyter-widgets/base",
      "_view_module_version": "1.2.0",
      "_view_name": "StyleView",
      "bar_color": null,
      "description_width": ""
     }
    },
    "d68857f945134359a402de9d05f062af": {
     "model_module": "@jupyter-widgets/base",
     "model_module_version": "1.2.0",
     "model_name": "LayoutModel",
     "state": {
      "_model_module": "@jupyter-widgets/base",
      "_model_module_version": "1.2.0",
      "_model_name": "LayoutModel",
      "_view_count": null,
      "_view_module": "@jupyter-widgets/base",
      "_view_module_version": "1.2.0",
      "_view_name": "LayoutView",
      "align_content": null,
      "align_items": null,
      "align_self": null,
      "border": null,
      "bottom": null,
      "display": null,
      "flex": null,
      "flex_flow": null,
      "grid_area": null,
      "grid_auto_columns": null,
      "grid_auto_flow": null,
      "grid_auto_rows": null,
      "grid_column": null,
      "grid_gap": null,
      "grid_row": null,
      "grid_template_areas": null,
      "grid_template_columns": null,
      "grid_template_rows": null,
      "height": null,
      "justify_content": null,
      "justify_items": null,
      "left": null,
      "margin": null,
      "max_height": null,
      "max_width": null,
      "min_height": null,
      "min_width": null,
      "object_fit": null,
      "object_position": null,
      "order": null,
      "overflow": null,
      "overflow_x": null,
      "overflow_y": null,
      "padding": null,
      "right": null,
      "top": null,
      "visibility": null,
      "width": null
     }
    },
    "d8cf7ad769dd4dab9f8d66e28be3787c": {
     "model_module": "@jupyter-widgets/controls",
     "model_module_version": "1.5.0",
     "model_name": "HTMLModel",
     "state": {
      "_dom_classes": [],
      "_model_module": "@jupyter-widgets/controls",
      "_model_module_version": "1.5.0",
      "_model_name": "HTMLModel",
      "_view_count": null,
      "_view_module": "@jupyter-widgets/controls",
      "_view_module_version": "1.5.0",
      "_view_name": "HTMLView",
      "description": "",
      "description_tooltip": null,
      "layout": "IPY_MODEL_b637ce37652d4ff7b638269a570b5756",
      "placeholder": "​",
      "style": "IPY_MODEL_0dea5853cf3e447288237979edc7d283",
      "value": " 391/391 [23:01&lt;00:00,  3.02s/it, loss=1.6351, acc1=40.8%, acc2=37.0%, acc3=38.8%, acc4=38.8%]"
     }
    },
    "dc8649a92e4642b3a71c9b3ce5663279": {
     "model_module": "@jupyter-widgets/controls",
     "model_module_version": "1.5.0",
     "model_name": "DescriptionStyleModel",
     "state": {
      "_model_module": "@jupyter-widgets/controls",
      "_model_module_version": "1.5.0",
      "_model_name": "DescriptionStyleModel",
      "_view_count": null,
      "_view_module": "@jupyter-widgets/base",
      "_view_module_version": "1.2.0",
      "_view_name": "StyleView",
      "description_width": ""
     }
    },
    "e37837f1dae04e4c80e7157cb200e27c": {
     "model_module": "@jupyter-widgets/controls",
     "model_module_version": "1.5.0",
     "model_name": "DescriptionStyleModel",
     "state": {
      "_model_module": "@jupyter-widgets/controls",
      "_model_module_version": "1.5.0",
      "_model_name": "DescriptionStyleModel",
      "_view_count": null,
      "_view_module": "@jupyter-widgets/base",
      "_view_module_version": "1.2.0",
      "_view_name": "StyleView",
      "description_width": ""
     }
    },
    "ec981c869529475fa31885d0d6d29632": {
     "model_module": "@jupyter-widgets/base",
     "model_module_version": "1.2.0",
     "model_name": "LayoutModel",
     "state": {
      "_model_module": "@jupyter-widgets/base",
      "_model_module_version": "1.2.0",
      "_model_name": "LayoutModel",
      "_view_count": null,
      "_view_module": "@jupyter-widgets/base",
      "_view_module_version": "1.2.0",
      "_view_name": "LayoutView",
      "align_content": null,
      "align_items": null,
      "align_self": null,
      "border": null,
      "bottom": null,
      "display": null,
      "flex": null,
      "flex_flow": null,
      "grid_area": null,
      "grid_auto_columns": null,
      "grid_auto_flow": null,
      "grid_auto_rows": null,
      "grid_column": null,
      "grid_gap": null,
      "grid_row": null,
      "grid_template_areas": null,
      "grid_template_columns": null,
      "grid_template_rows": null,
      "height": null,
      "justify_content": null,
      "justify_items": null,
      "left": null,
      "margin": null,
      "max_height": null,
      "max_width": null,
      "min_height": null,
      "min_width": null,
      "object_fit": null,
      "object_position": null,
      "order": null,
      "overflow": null,
      "overflow_x": null,
      "overflow_y": null,
      "padding": null,
      "right": null,
      "top": null,
      "visibility": null,
      "width": null
     }
    },
    "ecf83bf3bc01478e96656c317704b184": {
     "model_module": "@jupyter-widgets/controls",
     "model_module_version": "1.5.0",
     "model_name": "DescriptionStyleModel",
     "state": {
      "_model_module": "@jupyter-widgets/controls",
      "_model_module_version": "1.5.0",
      "_model_name": "DescriptionStyleModel",
      "_view_count": null,
      "_view_module": "@jupyter-widgets/base",
      "_view_module_version": "1.2.0",
      "_view_name": "StyleView",
      "description_width": ""
     }
    },
    "ef9c6802992c465fbb0bf6b3ff206e87": {
     "model_module": "@jupyter-widgets/controls",
     "model_module_version": "1.5.0",
     "model_name": "DescriptionStyleModel",
     "state": {
      "_model_module": "@jupyter-widgets/controls",
      "_model_module_version": "1.5.0",
      "_model_name": "DescriptionStyleModel",
      "_view_count": null,
      "_view_module": "@jupyter-widgets/base",
      "_view_module_version": "1.2.0",
      "_view_name": "StyleView",
      "description_width": ""
     }
    },
    "f0ac3d3562774764bc757f6c333c2165": {
     "model_module": "@jupyter-widgets/base",
     "model_module_version": "1.2.0",
     "model_name": "LayoutModel",
     "state": {
      "_model_module": "@jupyter-widgets/base",
      "_model_module_version": "1.2.0",
      "_model_name": "LayoutModel",
      "_view_count": null,
      "_view_module": "@jupyter-widgets/base",
      "_view_module_version": "1.2.0",
      "_view_name": "LayoutView",
      "align_content": null,
      "align_items": null,
      "align_self": null,
      "border": null,
      "bottom": null,
      "display": null,
      "flex": null,
      "flex_flow": null,
      "grid_area": null,
      "grid_auto_columns": null,
      "grid_auto_flow": null,
      "grid_auto_rows": null,
      "grid_column": null,
      "grid_gap": null,
      "grid_row": null,
      "grid_template_areas": null,
      "grid_template_columns": null,
      "grid_template_rows": null,
      "height": null,
      "justify_content": null,
      "justify_items": null,
      "left": null,
      "margin": null,
      "max_height": null,
      "max_width": null,
      "min_height": null,
      "min_width": null,
      "object_fit": null,
      "object_position": null,
      "order": null,
      "overflow": null,
      "overflow_x": null,
      "overflow_y": null,
      "padding": null,
      "right": null,
      "top": null,
      "visibility": null,
      "width": null
     }
    },
    "f112639a84434e5784bfd9d6f50d352b": {
     "model_module": "@jupyter-widgets/base",
     "model_module_version": "1.2.0",
     "model_name": "LayoutModel",
     "state": {
      "_model_module": "@jupyter-widgets/base",
      "_model_module_version": "1.2.0",
      "_model_name": "LayoutModel",
      "_view_count": null,
      "_view_module": "@jupyter-widgets/base",
      "_view_module_version": "1.2.0",
      "_view_name": "LayoutView",
      "align_content": null,
      "align_items": null,
      "align_self": null,
      "border": null,
      "bottom": null,
      "display": null,
      "flex": null,
      "flex_flow": null,
      "grid_area": null,
      "grid_auto_columns": null,
      "grid_auto_flow": null,
      "grid_auto_rows": null,
      "grid_column": null,
      "grid_gap": null,
      "grid_row": null,
      "grid_template_areas": null,
      "grid_template_columns": null,
      "grid_template_rows": null,
      "height": null,
      "justify_content": null,
      "justify_items": null,
      "left": null,
      "margin": null,
      "max_height": null,
      "max_width": null,
      "min_height": null,
      "min_width": null,
      "object_fit": null,
      "object_position": null,
      "order": null,
      "overflow": null,
      "overflow_x": null,
      "overflow_y": null,
      "padding": null,
      "right": null,
      "top": null,
      "visibility": null,
      "width": null
     }
    },
    "f861f44f1a094380bb88511ba89647ed": {
     "model_module": "@jupyter-widgets/base",
     "model_module_version": "1.2.0",
     "model_name": "LayoutModel",
     "state": {
      "_model_module": "@jupyter-widgets/base",
      "_model_module_version": "1.2.0",
      "_model_name": "LayoutModel",
      "_view_count": null,
      "_view_module": "@jupyter-widgets/base",
      "_view_module_version": "1.2.0",
      "_view_name": "LayoutView",
      "align_content": null,
      "align_items": null,
      "align_self": null,
      "border": null,
      "bottom": null,
      "display": null,
      "flex": null,
      "flex_flow": null,
      "grid_area": null,
      "grid_auto_columns": null,
      "grid_auto_flow": null,
      "grid_auto_rows": null,
      "grid_column": null,
      "grid_gap": null,
      "grid_row": null,
      "grid_template_areas": null,
      "grid_template_columns": null,
      "grid_template_rows": null,
      "height": null,
      "justify_content": null,
      "justify_items": null,
      "left": null,
      "margin": null,
      "max_height": null,
      "max_width": null,
      "min_height": null,
      "min_width": null,
      "object_fit": null,
      "object_position": null,
      "order": null,
      "overflow": null,
      "overflow_x": null,
      "overflow_y": null,
      "padding": null,
      "right": null,
      "top": null,
      "visibility": null,
      "width": null
     }
    }
   }
  }
 },
 "nbformat": 4,
 "nbformat_minor": 4
}
